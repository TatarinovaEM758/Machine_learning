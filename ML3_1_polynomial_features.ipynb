{
  "nbformat": 4,
  "nbformat_minor": 0,
  "metadata": {
    "colab": {
      "provenance": [],
      "include_colab_link": true
    },
    "kernelspec": {
      "name": "python3",
      "display_name": "Python 3"
    },
    "language_info": {
      "name": "python"
    }
  },
  "cells": [
    {
      "cell_type": "markdown",
      "metadata": {
        "id": "view-in-github",
        "colab_type": "text"
      },
      "source": [
        "<a href=\"https://colab.research.google.com/github/TatarinovaEM758/Machine_learning/blob/main/ML3_1_polynomial_features.ipynb\" target=\"_parent\"><img src=\"https://colab.research.google.com/assets/colab-badge.svg\" alt=\"Open In Colab\"/></a>"
      ]
    },
    {
      "cell_type": "code",
      "execution_count": null,
      "metadata": {
        "id": "1LoUspgx4TzE"
      },
      "outputs": [],
      "source": [
        "import numpy as np\n",
        "import pandas as pd\n",
        "import matplotlib.pyplot as plt"
      ]
    },
    {
      "cell_type": "code",
      "source": [
        "data = pd.read_csv(\"https://raw.githubusercontent.com/koroteevmv/ML_course/refs/heads/main/ML3.1%20polynomial%20features/data/gen_regression.csv\")"
      ],
      "metadata": {
        "id": "f8eJyu75nQ8_"
      },
      "execution_count": null,
      "outputs": []
    },
    {
      "cell_type": "code",
      "source": [
        "data.head()"
      ],
      "metadata": {
        "colab": {
          "base_uri": "https://localhost:8080/",
          "height": 206
        },
        "id": "CWn69dyrnUQQ",
        "outputId": "434bc9c0-134a-46c5-83ec-198867c55d20"
      },
      "execution_count": null,
      "outputs": [
        {
          "output_type": "execute_result",
          "data": {
            "text/plain": [
              "   Unnamed: 0          x             y\n",
              "0           0  96.597780  97761.592016\n",
              "1           1  48.002892  27613.989207\n",
              "2           2  47.939756  29410.187753\n",
              "3           3  47.809026  15789.597531\n",
              "4           4  69.784427  20953.383453"
            ],
            "text/html": [
              "\n",
              "  <div id=\"df-a98ea233-4a5c-4c98-98f4-ec81df507f8b\" class=\"colab-df-container\">\n",
              "    <div>\n",
              "<style scoped>\n",
              "    .dataframe tbody tr th:only-of-type {\n",
              "        vertical-align: middle;\n",
              "    }\n",
              "\n",
              "    .dataframe tbody tr th {\n",
              "        vertical-align: top;\n",
              "    }\n",
              "\n",
              "    .dataframe thead th {\n",
              "        text-align: right;\n",
              "    }\n",
              "</style>\n",
              "<table border=\"1\" class=\"dataframe\">\n",
              "  <thead>\n",
              "    <tr style=\"text-align: right;\">\n",
              "      <th></th>\n",
              "      <th>Unnamed: 0</th>\n",
              "      <th>x</th>\n",
              "      <th>y</th>\n",
              "    </tr>\n",
              "  </thead>\n",
              "  <tbody>\n",
              "    <tr>\n",
              "      <th>0</th>\n",
              "      <td>0</td>\n",
              "      <td>96.597780</td>\n",
              "      <td>97761.592016</td>\n",
              "    </tr>\n",
              "    <tr>\n",
              "      <th>1</th>\n",
              "      <td>1</td>\n",
              "      <td>48.002892</td>\n",
              "      <td>27613.989207</td>\n",
              "    </tr>\n",
              "    <tr>\n",
              "      <th>2</th>\n",
              "      <td>2</td>\n",
              "      <td>47.939756</td>\n",
              "      <td>29410.187753</td>\n",
              "    </tr>\n",
              "    <tr>\n",
              "      <th>3</th>\n",
              "      <td>3</td>\n",
              "      <td>47.809026</td>\n",
              "      <td>15789.597531</td>\n",
              "    </tr>\n",
              "    <tr>\n",
              "      <th>4</th>\n",
              "      <td>4</td>\n",
              "      <td>69.784427</td>\n",
              "      <td>20953.383453</td>\n",
              "    </tr>\n",
              "  </tbody>\n",
              "</table>\n",
              "</div>\n",
              "    <div class=\"colab-df-buttons\">\n",
              "\n",
              "  <div class=\"colab-df-container\">\n",
              "    <button class=\"colab-df-convert\" onclick=\"convertToInteractive('df-a98ea233-4a5c-4c98-98f4-ec81df507f8b')\"\n",
              "            title=\"Convert this dataframe to an interactive table.\"\n",
              "            style=\"display:none;\">\n",
              "\n",
              "  <svg xmlns=\"http://www.w3.org/2000/svg\" height=\"24px\" viewBox=\"0 -960 960 960\">\n",
              "    <path d=\"M120-120v-720h720v720H120Zm60-500h600v-160H180v160Zm220 220h160v-160H400v160Zm0 220h160v-160H400v160ZM180-400h160v-160H180v160Zm440 0h160v-160H620v160ZM180-180h160v-160H180v160Zm440 0h160v-160H620v160Z\"/>\n",
              "  </svg>\n",
              "    </button>\n",
              "\n",
              "  <style>\n",
              "    .colab-df-container {\n",
              "      display:flex;\n",
              "      gap: 12px;\n",
              "    }\n",
              "\n",
              "    .colab-df-convert {\n",
              "      background-color: #E8F0FE;\n",
              "      border: none;\n",
              "      border-radius: 50%;\n",
              "      cursor: pointer;\n",
              "      display: none;\n",
              "      fill: #1967D2;\n",
              "      height: 32px;\n",
              "      padding: 0 0 0 0;\n",
              "      width: 32px;\n",
              "    }\n",
              "\n",
              "    .colab-df-convert:hover {\n",
              "      background-color: #E2EBFA;\n",
              "      box-shadow: 0px 1px 2px rgba(60, 64, 67, 0.3), 0px 1px 3px 1px rgba(60, 64, 67, 0.15);\n",
              "      fill: #174EA6;\n",
              "    }\n",
              "\n",
              "    .colab-df-buttons div {\n",
              "      margin-bottom: 4px;\n",
              "    }\n",
              "\n",
              "    [theme=dark] .colab-df-convert {\n",
              "      background-color: #3B4455;\n",
              "      fill: #D2E3FC;\n",
              "    }\n",
              "\n",
              "    [theme=dark] .colab-df-convert:hover {\n",
              "      background-color: #434B5C;\n",
              "      box-shadow: 0px 1px 3px 1px rgba(0, 0, 0, 0.15);\n",
              "      filter: drop-shadow(0px 1px 2px rgba(0, 0, 0, 0.3));\n",
              "      fill: #FFFFFF;\n",
              "    }\n",
              "  </style>\n",
              "\n",
              "    <script>\n",
              "      const buttonEl =\n",
              "        document.querySelector('#df-a98ea233-4a5c-4c98-98f4-ec81df507f8b button.colab-df-convert');\n",
              "      buttonEl.style.display =\n",
              "        google.colab.kernel.accessAllowed ? 'block' : 'none';\n",
              "\n",
              "      async function convertToInteractive(key) {\n",
              "        const element = document.querySelector('#df-a98ea233-4a5c-4c98-98f4-ec81df507f8b');\n",
              "        const dataTable =\n",
              "          await google.colab.kernel.invokeFunction('convertToInteractive',\n",
              "                                                    [key], {});\n",
              "        if (!dataTable) return;\n",
              "\n",
              "        const docLinkHtml = 'Like what you see? Visit the ' +\n",
              "          '<a target=\"_blank\" href=https://colab.research.google.com/notebooks/data_table.ipynb>data table notebook</a>'\n",
              "          + ' to learn more about interactive tables.';\n",
              "        element.innerHTML = '';\n",
              "        dataTable['output_type'] = 'display_data';\n",
              "        await google.colab.output.renderOutput(dataTable, element);\n",
              "        const docLink = document.createElement('div');\n",
              "        docLink.innerHTML = docLinkHtml;\n",
              "        element.appendChild(docLink);\n",
              "      }\n",
              "    </script>\n",
              "  </div>\n",
              "\n",
              "\n",
              "<div id=\"df-638c04ca-78ff-4163-a87f-43d0c182a587\">\n",
              "  <button class=\"colab-df-quickchart\" onclick=\"quickchart('df-638c04ca-78ff-4163-a87f-43d0c182a587')\"\n",
              "            title=\"Suggest charts\"\n",
              "            style=\"display:none;\">\n",
              "\n",
              "<svg xmlns=\"http://www.w3.org/2000/svg\" height=\"24px\"viewBox=\"0 0 24 24\"\n",
              "     width=\"24px\">\n",
              "    <g>\n",
              "        <path d=\"M19 3H5c-1.1 0-2 .9-2 2v14c0 1.1.9 2 2 2h14c1.1 0 2-.9 2-2V5c0-1.1-.9-2-2-2zM9 17H7v-7h2v7zm4 0h-2V7h2v10zm4 0h-2v-4h2v4z\"/>\n",
              "    </g>\n",
              "</svg>\n",
              "  </button>\n",
              "\n",
              "<style>\n",
              "  .colab-df-quickchart {\n",
              "      --bg-color: #E8F0FE;\n",
              "      --fill-color: #1967D2;\n",
              "      --hover-bg-color: #E2EBFA;\n",
              "      --hover-fill-color: #174EA6;\n",
              "      --disabled-fill-color: #AAA;\n",
              "      --disabled-bg-color: #DDD;\n",
              "  }\n",
              "\n",
              "  [theme=dark] .colab-df-quickchart {\n",
              "      --bg-color: #3B4455;\n",
              "      --fill-color: #D2E3FC;\n",
              "      --hover-bg-color: #434B5C;\n",
              "      --hover-fill-color: #FFFFFF;\n",
              "      --disabled-bg-color: #3B4455;\n",
              "      --disabled-fill-color: #666;\n",
              "  }\n",
              "\n",
              "  .colab-df-quickchart {\n",
              "    background-color: var(--bg-color);\n",
              "    border: none;\n",
              "    border-radius: 50%;\n",
              "    cursor: pointer;\n",
              "    display: none;\n",
              "    fill: var(--fill-color);\n",
              "    height: 32px;\n",
              "    padding: 0;\n",
              "    width: 32px;\n",
              "  }\n",
              "\n",
              "  .colab-df-quickchart:hover {\n",
              "    background-color: var(--hover-bg-color);\n",
              "    box-shadow: 0 1px 2px rgba(60, 64, 67, 0.3), 0 1px 3px 1px rgba(60, 64, 67, 0.15);\n",
              "    fill: var(--button-hover-fill-color);\n",
              "  }\n",
              "\n",
              "  .colab-df-quickchart-complete:disabled,\n",
              "  .colab-df-quickchart-complete:disabled:hover {\n",
              "    background-color: var(--disabled-bg-color);\n",
              "    fill: var(--disabled-fill-color);\n",
              "    box-shadow: none;\n",
              "  }\n",
              "\n",
              "  .colab-df-spinner {\n",
              "    border: 2px solid var(--fill-color);\n",
              "    border-color: transparent;\n",
              "    border-bottom-color: var(--fill-color);\n",
              "    animation:\n",
              "      spin 1s steps(1) infinite;\n",
              "  }\n",
              "\n",
              "  @keyframes spin {\n",
              "    0% {\n",
              "      border-color: transparent;\n",
              "      border-bottom-color: var(--fill-color);\n",
              "      border-left-color: var(--fill-color);\n",
              "    }\n",
              "    20% {\n",
              "      border-color: transparent;\n",
              "      border-left-color: var(--fill-color);\n",
              "      border-top-color: var(--fill-color);\n",
              "    }\n",
              "    30% {\n",
              "      border-color: transparent;\n",
              "      border-left-color: var(--fill-color);\n",
              "      border-top-color: var(--fill-color);\n",
              "      border-right-color: var(--fill-color);\n",
              "    }\n",
              "    40% {\n",
              "      border-color: transparent;\n",
              "      border-right-color: var(--fill-color);\n",
              "      border-top-color: var(--fill-color);\n",
              "    }\n",
              "    60% {\n",
              "      border-color: transparent;\n",
              "      border-right-color: var(--fill-color);\n",
              "    }\n",
              "    80% {\n",
              "      border-color: transparent;\n",
              "      border-right-color: var(--fill-color);\n",
              "      border-bottom-color: var(--fill-color);\n",
              "    }\n",
              "    90% {\n",
              "      border-color: transparent;\n",
              "      border-bottom-color: var(--fill-color);\n",
              "    }\n",
              "  }\n",
              "</style>\n",
              "\n",
              "  <script>\n",
              "    async function quickchart(key) {\n",
              "      const quickchartButtonEl =\n",
              "        document.querySelector('#' + key + ' button');\n",
              "      quickchartButtonEl.disabled = true;  // To prevent multiple clicks.\n",
              "      quickchartButtonEl.classList.add('colab-df-spinner');\n",
              "      try {\n",
              "        const charts = await google.colab.kernel.invokeFunction(\n",
              "            'suggestCharts', [key], {});\n",
              "      } catch (error) {\n",
              "        console.error('Error during call to suggestCharts:', error);\n",
              "      }\n",
              "      quickchartButtonEl.classList.remove('colab-df-spinner');\n",
              "      quickchartButtonEl.classList.add('colab-df-quickchart-complete');\n",
              "    }\n",
              "    (() => {\n",
              "      let quickchartButtonEl =\n",
              "        document.querySelector('#df-638c04ca-78ff-4163-a87f-43d0c182a587 button');\n",
              "      quickchartButtonEl.style.display =\n",
              "        google.colab.kernel.accessAllowed ? 'block' : 'none';\n",
              "    })();\n",
              "  </script>\n",
              "</div>\n",
              "\n",
              "    </div>\n",
              "  </div>\n"
            ],
            "application/vnd.google.colaboratory.intrinsic+json": {
              "type": "dataframe",
              "variable_name": "data",
              "summary": "{\n  \"name\": \"data\",\n  \"rows\": 100,\n  \"fields\": [\n    {\n      \"column\": \"Unnamed: 0\",\n      \"properties\": {\n        \"dtype\": \"number\",\n        \"std\": 29,\n        \"min\": 0,\n        \"max\": 99,\n        \"num_unique_values\": 100,\n        \"samples\": [\n          83,\n          53,\n          70\n        ],\n        \"semantic_type\": \"\",\n        \"description\": \"\"\n      }\n    },\n    {\n      \"column\": \"x\",\n      \"properties\": {\n        \"dtype\": \"number\",\n        \"std\": 27.730226603943255,\n        \"min\": 8.90328580688138,\n        \"max\": 102.8683063543202,\n        \"num_unique_values\": 100,\n        \"samples\": [\n          88.98011586766714,\n          86.49158045924723,\n          20.578272398380275\n        ],\n        \"semantic_type\": \"\",\n        \"description\": \"\"\n      }\n    },\n    {\n      \"column\": \"y\",\n      \"properties\": {\n        \"dtype\": \"number\",\n        \"std\": 30709.78039698454,\n        \"min\": 1198.17050093334,\n        \"max\": 147687.9104492844,\n        \"num_unique_values\": 100,\n        \"samples\": [\n          34284.96614847216,\n          40395.87641149433,\n          19768.53249211515\n        ],\n        \"semantic_type\": \"\",\n        \"description\": \"\"\n      }\n    }\n  ]\n}"
            }
          },
          "metadata": {},
          "execution_count": 8
        }
      ]
    },
    {
      "cell_type": "code",
      "source": [
        "X = data.x\n",
        "y = data.y"
      ],
      "metadata": {
        "id": "WBVa6Is2nWLk"
      },
      "execution_count": null,
      "outputs": []
    },
    {
      "cell_type": "code",
      "source": [
        "plt.scatter(X, y)"
      ],
      "metadata": {
        "colab": {
          "base_uri": "https://localhost:8080/",
          "height": 447
        },
        "id": "iTld51jpnqP9",
        "outputId": "24841163-1f91-4964-e81f-204f40fb1813"
      },
      "execution_count": null,
      "outputs": [
        {
          "output_type": "execute_result",
          "data": {
            "text/plain": [
              "<matplotlib.collections.PathCollection at 0x7d6197c9beb0>"
            ]
          },
          "metadata": {},
          "execution_count": 10
        },
        {
          "output_type": "display_data",
          "data": {
            "text/plain": [
              "<Figure size 640x480 with 1 Axes>"
            ],
            "image/png": "[encoded data removed]"
          },
          "metadata": {}
        }
      ]
    },
    {
      "cell_type": "markdown",
      "source": [
        "Здесь мы видим наличие нелинейной зависимости между атрибутом и целевой переменной. Мы пока не знаем, какова именно эта зависимость и какая функция его приближает лучше всего. Мы будем пробовать строить полиномы разных степеней и смотреть, насколько точной получатся такие модели. Для эксперимента построим модель линейной регрессии."
      ],
      "metadata": {
        "id": "hZ5CXE6xodja"
      }
    },
    {
      "cell_type": "code",
      "source": [
        "X = pd.DataFrame(X)"
      ],
      "metadata": {
        "id": "u21fRdWQoY96"
      },
      "execution_count": null,
      "outputs": []
    },
    {
      "cell_type": "code",
      "source": [
        "from sklearn.linear_model import LinearRegression\n",
        "linear = LinearRegression().fit(X, y)"
      ],
      "metadata": {
        "id": "BEg0riAtoXMJ"
      },
      "execution_count": null,
      "outputs": []
    },
    {
      "cell_type": "code",
      "source": [
        "xx = np.arange(X.x.min(axis=0), X.x.max(axis=0))\n",
        "yy = linear.predict(pd.DataFrame(xx))\n",
        "\n",
        "plt.scatter(X.x, y)\n",
        "plt.plot(xx, yy, c='r')"
      ],
      "metadata": {
        "colab": {
          "base_uri": "https://localhost:8080/",
          "height": 482
        },
        "id": "m32IHIUOo41t",
        "outputId": "cf10c641-bedc-43b8-990e-f6e74dab6032"
      },
      "execution_count": null,
      "outputs": [
        {
          "output_type": "stream",
          "name": "stderr",
          "text": [
            "/usr/local/lib/python3.10/dist-packages/sklearn/base.py:493: UserWarning: X does not have valid feature names, but LinearRegression was fitted with feature names\n",
            "  warnings.warn(\n"
          ]
        },
        {
          "output_type": "execute_result",
          "data": {
            "text/plain": [
              "[<matplotlib.lines.Line2D at 0x7d61a6bd8130>]"
            ]
          },
          "metadata": {},
          "execution_count": 13
        },
        {
          "output_type": "display_data",
          "data": {
            "text/plain": [
              "<Figure size 640x480 with 1 Axes>"
            ],
            "image/png": "[encoded data removed]"
          },
          "metadata": {}
        }
      ]
    },
    {
      "cell_type": "markdown",
      "source": [
        "Как и ожидалось, линейная модель не очень хорошо аппроксимирует наши данные. Для более точной оценки эффективности моделей выведем значение коэффициента детерминации:"
      ],
      "metadata": {
        "id": "BML8ghGwpq3i"
      }
    },
    {
      "cell_type": "code",
      "source": [
        "linear.score(X, y)"
      ],
      "metadata": {
        "colab": {
          "base_uri": "https://localhost:8080/"
        },
        "id": "3gZymnpeo6o8",
        "outputId": "b592172e-03b0-4f0a-fc33-6ef716564095"
      },
      "execution_count": null,
      "outputs": [
        {
          "output_type": "execute_result",
          "data": {
            "text/plain": [
              "0.37467360318911636"
            ]
          },
          "metadata": {},
          "execution_count": 14
        }
      ]
    },
    {
      "cell_type": "markdown",
      "source": [
        "Мы видим, что это значение (37%) довольно низко. Можно сделать обоснованный вывод о том, что данная модель имеет низкую точность.\n",
        "\n",
        "Давайте попробуем построить полиномиальную регрессию второго порядка и посмотрим, улучшит ли это ситуацию. В библиотеке sklearn нет отдельного класса для полиномиальных моделей. Вместо этого, введение полиномиальных признаков происходит путем преобразования данных. Для этого служит специальный класс:"
      ],
      "metadata": {
        "id": "AUm2RGZXpvGY"
      }
    },
    {
      "cell_type": "code",
      "source": [
        "from sklearn.preprocessing import PolynomialFeatures"
      ],
      "metadata": {
        "id": "xLjcX_xIpsg1"
      },
      "execution_count": null,
      "outputs": []
    },
    {
      "cell_type": "code",
      "source": [
        "transformation = PolynomialFeatures(degree=2)"
      ],
      "metadata": {
        "id": "zRnCbDLapxu8"
      },
      "execution_count": null,
      "outputs": []
    },
    {
      "cell_type": "markdown",
      "source": [
        "Теперь надо \"обучить\" объект трансформации на нашем датасете. Все объекты sklearn специально сделаны очень похоже по интерфейсу на модели машинного обучения. Это очень полезно при их комбинировании в конвейеры. Об этом поговорим позже. Сейчас нужно \"подстроить\" объект трансформации под наши данные:"
      ],
      "metadata": {
        "id": "TKEdpCaPp2rW"
      }
    },
    {
      "cell_type": "code",
      "source": [
        "transformation.fit(X)"
      ],
      "metadata": {
        "colab": {
          "base_uri": "https://localhost:8080/",
          "height": 80
        },
        "id": "WcQFhzhDpzSs",
        "outputId": "dc1aac64-2633-4752-b8cb-f4867adc2972"
      },
      "execution_count": null,
      "outputs": [
        {
          "output_type": "execute_result",
          "data": {
            "text/plain": [
              "PolynomialFeatures()"
            ],
            "text/html": [
              "<style>#sk-container-id-1 {\n",
              "  /* Definition of color scheme common for light and dark mode */\n",
              "  --sklearn-color-text: black;\n",
              "  --sklearn-color-line: gray;\n",
              "  /* Definition of color scheme for unfitted estimators */\n",
              "  --sklearn-color-unfitted-level-0: #fff5e6;\n",
              "  --sklearn-color-unfitted-level-1: #f6e4d2;\n",
              "  --sklearn-color-unfitted-level-2: #ffe0b3;\n",
              "  --sklearn-color-unfitted-level-3: chocolate;\n",
              "  /* Definition of color scheme for fitted estimators */\n",
              "  --sklearn-color-fitted-level-0: #f0f8ff;\n",
              "  --sklearn-color-fitted-level-1: #d4ebff;\n",
              "  --sklearn-color-fitted-level-2: #b3dbfd;\n",
              "  --sklearn-color-fitted-level-3: cornflowerblue;\n",
              "\n",
              "  /* Specific color for light theme */\n",
              "  --sklearn-color-text-on-default-background: var(--sg-text-color, var(--theme-code-foreground, var(--jp-content-font-color1, black)));\n",
              "  --sklearn-color-background: var(--sg-background-color, var(--theme-background, var(--jp-layout-color0, white)));\n",
              "  --sklearn-color-border-box: var(--sg-text-color, var(--theme-code-foreground, var(--jp-content-font-color1, black)));\n",
              "  --sklearn-color-icon: #696969;\n",
              "\n",
              "  @media (prefers-color-scheme: dark) {\n",
              "    /* Redefinition of color scheme for dark theme */\n",
              "    --sklearn-color-text-on-default-background: var(--sg-text-color, var(--theme-code-foreground, var(--jp-content-font-color1, white)));\n",
              "    --sklearn-color-background: var(--sg-background-color, var(--theme-background, var(--jp-layout-color0, #111)));\n",
              "    --sklearn-color-border-box: var(--sg-text-color, var(--theme-code-foreground, var(--jp-content-font-color1, white)));\n",
              "    --sklearn-color-icon: #878787;\n",
              "  }\n",
              "}\n",
              "\n",
              "#sk-container-id-1 {\n",
              "  color: var(--sklearn-color-text);\n",
              "}\n",
              "\n",
              "#sk-container-id-1 pre {\n",
              "  padding: 0;\n",
              "}\n",
              "\n",
              "#sk-container-id-1 input.sk-hidden--visually {\n",
              "  border: 0;\n",
              "  clip: rect(1px 1px 1px 1px);\n",
              "  clip: rect(1px, 1px, 1px, 1px);\n",
              "  height: 1px;\n",
              "  margin: -1px;\n",
              "  overflow: hidden;\n",
              "  padding: 0;\n",
              "  position: absolute;\n",
              "  width: 1px;\n",
              "}\n",
              "\n",
              "#sk-container-id-1 div.sk-dashed-wrapped {\n",
              "  border: 1px dashed var(--sklearn-color-line);\n",
              "  margin: 0 0.4em 0.5em 0.4em;\n",
              "  box-sizing: border-box;\n",
              "  padding-bottom: 0.4em;\n",
              "  background-color: var(--sklearn-color-background);\n",
              "}\n",
              "\n",
              "#sk-container-id-1 div.sk-container {\n",
              "  /* jupyter's `normalize.less` sets `[hidden] { display: none; }`\n",
              "     but bootstrap.min.css set `[hidden] { display: none !important; }`\n",
              "     so we also need the `!important` here to be able to override the\n",
              "     default hidden behavior on the sphinx rendered scikit-learn.org.\n",
              "     See: https://github.com/scikit-learn/scikit-learn/issues/21755 */\n",
              "  display: inline-block !important;\n",
              "  position: relative;\n",
              "}\n",
              "\n",
              "#sk-container-id-1 div.sk-text-repr-fallback {\n",
              "  display: none;\n",
              "}\n",
              "\n",
              "div.sk-parallel-item,\n",
              "div.sk-serial,\n",
              "div.sk-item {\n",
              "  /* draw centered vertical line to link estimators */\n",
              "  background-image: linear-gradient(var(--sklearn-color-text-on-default-background), var(--sklearn-color-text-on-default-background));\n",
              "  background-size: 2px 100%;\n",
              "  background-repeat: no-repeat;\n",
              "  background-position: center center;\n",
              "}\n",
              "\n",
              "/* Parallel-specific style estimator block */\n",
              "\n",
              "#sk-container-id-1 div.sk-parallel-item::after {\n",
              "  content: \"\";\n",
              "  width: 100%;\n",
              "  border-bottom: 2px solid var(--sklearn-color-text-on-default-background);\n",
              "  flex-grow: 1;\n",
              "}\n",
              "\n",
              "#sk-container-id-1 div.sk-parallel {\n",
              "  display: flex;\n",
              "  align-items: stretch;\n",
              "  justify-content: center;\n",
              "  background-color: var(--sklearn-color-background);\n",
              "  position: relative;\n",
              "}\n",
              "\n",
              "#sk-container-id-1 div.sk-parallel-item {\n",
              "  display: flex;\n",
              "  flex-direction: column;\n",
              "}\n",
              "\n",
              "#sk-container-id-1 div.sk-parallel-item:first-child::after {\n",
              "  align-self: flex-end;\n",
              "  width: 50%;\n",
              "}\n",
              "\n",
              "#sk-container-id-1 div.sk-parallel-item:last-child::after {\n",
              "  align-self: flex-start;\n",
              "  width: 50%;\n",
              "}\n",
              "\n",
              "#sk-container-id-1 div.sk-parallel-item:only-child::after {\n",
              "  width: 0;\n",
              "}\n",
              "\n",
              "/* Serial-specific style estimator block */\n",
              "\n",
              "#sk-container-id-1 div.sk-serial {\n",
              "  display: flex;\n",
              "  flex-direction: column;\n",
              "  align-items: center;\n",
              "  background-color: var(--sklearn-color-background);\n",
              "  padding-right: 1em;\n",
              "  padding-left: 1em;\n",
              "}\n",
              "\n",
              "\n",
              "/* Toggleable style: style used for estimator/Pipeline/ColumnTransformer box that is\n",
              "clickable and can be expanded/collapsed.\n",
              "- Pipeline and ColumnTransformer use this feature and define the default style\n",
              "- Estimators will overwrite some part of the style using the `sk-estimator` class\n",
              "*/\n",
              "\n",
              "/* Pipeline and ColumnTransformer style (default) */\n",
              "\n",
              "#sk-container-id-1 div.sk-toggleable {\n",
              "  /* Default theme specific background. It is overwritten whether we have a\n",
              "  specific estimator or a Pipeline/ColumnTransformer */\n",
              "  background-color: var(--sklearn-color-background);\n",
              "}\n",
              "\n",
              "/* Toggleable label */\n",
              "#sk-container-id-1 label.sk-toggleable__label {\n",
              "  cursor: pointer;\n",
              "  display: block;\n",
              "  width: 100%;\n",
              "  margin-bottom: 0;\n",
              "  padding: 0.5em;\n",
              "  box-sizing: border-box;\n",
              "  text-align: center;\n",
              "}\n",
              "\n",
              "#sk-container-id-1 label.sk-toggleable__label-arrow:before {\n",
              "  /* Arrow on the left of the label */\n",
              "  content: \"▸\";\n",
              "  float: left;\n",
              "  margin-right: 0.25em;\n",
              "  color: var(--sklearn-color-icon);\n",
              "}\n",
              "\n",
              "#sk-container-id-1 label.sk-toggleable__label-arrow:hover:before {\n",
              "  color: var(--sklearn-color-text);\n",
              "}\n",
              "\n",
              "/* Toggleable content - dropdown */\n",
              "\n",
              "#sk-container-id-1 div.sk-toggleable__content {\n",
              "  max-height: 0;\n",
              "  max-width: 0;\n",
              "  overflow: hidden;\n",
              "  text-align: left;\n",
              "  /* unfitted */\n",
              "  background-color: var(--sklearn-color-unfitted-level-0);\n",
              "}\n",
              "\n",
              "#sk-container-id-1 div.sk-toggleable__content.fitted {\n",
              "  /* fitted */\n",
              "  background-color: var(--sklearn-color-fitted-level-0);\n",
              "}\n",
              "\n",
              "#sk-container-id-1 div.sk-toggleable__content pre {\n",
              "  margin: 0.2em;\n",
              "  border-radius: 0.25em;\n",
              "  color: var(--sklearn-color-text);\n",
              "  /* unfitted */\n",
              "  background-color: var(--sklearn-color-unfitted-level-0);\n",
              "}\n",
              "\n",
              "#sk-container-id-1 div.sk-toggleable__content.fitted pre {\n",
              "  /* unfitted */\n",
              "  background-color: var(--sklearn-color-fitted-level-0);\n",
              "}\n",
              "\n",
              "#sk-container-id-1 input.sk-toggleable__control:checked~div.sk-toggleable__content {\n",
              "  /* Expand drop-down */\n",
              "  max-height: 200px;\n",
              "  max-width: 100%;\n",
              "  overflow: auto;\n",
              "}\n",
              "\n",
              "#sk-container-id-1 input.sk-toggleable__control:checked~label.sk-toggleable__label-arrow:before {\n",
              "  content: \"▾\";\n",
              "}\n",
              "\n",
              "/* Pipeline/ColumnTransformer-specific style */\n",
              "\n",
              "#sk-container-id-1 div.sk-label input.sk-toggleable__control:checked~label.sk-toggleable__label {\n",
              "  color: var(--sklearn-color-text);\n",
              "  background-color: var(--sklearn-color-unfitted-level-2);\n",
              "}\n",
              "\n",
              "#sk-container-id-1 div.sk-label.fitted input.sk-toggleable__control:checked~label.sk-toggleable__label {\n",
              "  background-color: var(--sklearn-color-fitted-level-2);\n",
              "}\n",
              "\n",
              "/* Estimator-specific style */\n",
              "\n",
              "/* Colorize estimator box */\n",
              "#sk-container-id-1 div.sk-estimator input.sk-toggleable__control:checked~label.sk-toggleable__label {\n",
              "  /* unfitted */\n",
              "  background-color: var(--sklearn-color-unfitted-level-2);\n",
              "}\n",
              "\n",
              "#sk-container-id-1 div.sk-estimator.fitted input.sk-toggleable__control:checked~label.sk-toggleable__label {\n",
              "  /* fitted */\n",
              "  background-color: var(--sklearn-color-fitted-level-2);\n",
              "}\n",
              "\n",
              "#sk-container-id-1 div.sk-label label.sk-toggleable__label,\n",
              "#sk-container-id-1 div.sk-label label {\n",
              "  /* The background is the default theme color */\n",
              "  color: var(--sklearn-color-text-on-default-background);\n",
              "}\n",
              "\n",
              "/* On hover, darken the color of the background */\n",
              "#sk-container-id-1 div.sk-label:hover label.sk-toggleable__label {\n",
              "  color: var(--sklearn-color-text);\n",
              "  background-color: var(--sklearn-color-unfitted-level-2);\n",
              "}\n",
              "\n",
              "/* Label box, darken color on hover, fitted */\n",
              "#sk-container-id-1 div.sk-label.fitted:hover label.sk-toggleable__label.fitted {\n",
              "  color: var(--sklearn-color-text);\n",
              "  background-color: var(--sklearn-color-fitted-level-2);\n",
              "}\n",
              "\n",
              "/* Estimator label */\n",
              "\n",
              "#sk-container-id-1 div.sk-label label {\n",
              "  font-family: monospace;\n",
              "  font-weight: bold;\n",
              "  display: inline-block;\n",
              "  line-height: 1.2em;\n",
              "}\n",
              "\n",
              "#sk-container-id-1 div.sk-label-container {\n",
              "  text-align: center;\n",
              "}\n",
              "\n",
              "/* Estimator-specific */\n",
              "#sk-container-id-1 div.sk-estimator {\n",
              "  font-family: monospace;\n",
              "  border: 1px dotted var(--sklearn-color-border-box);\n",
              "  border-radius: 0.25em;\n",
              "  box-sizing: border-box;\n",
              "  margin-bottom: 0.5em;\n",
              "  /* unfitted */\n",
              "  background-color: var(--sklearn-color-unfitted-level-0);\n",
              "}\n",
              "\n",
              "#sk-container-id-1 div.sk-estimator.fitted {\n",
              "  /* fitted */\n",
              "  background-color: var(--sklearn-color-fitted-level-0);\n",
              "}\n",
              "\n",
              "/* on hover */\n",
              "#sk-container-id-1 div.sk-estimator:hover {\n",
              "  /* unfitted */\n",
              "  background-color: var(--sklearn-color-unfitted-level-2);\n",
              "}\n",
              "\n",
              "#sk-container-id-1 div.sk-estimator.fitted:hover {\n",
              "  /* fitted */\n",
              "  background-color: var(--sklearn-color-fitted-level-2);\n",
              "}\n",
              "\n",
              "/* Specification for estimator info (e.g. \"i\" and \"?\") */\n",
              "\n",
              "/* Common style for \"i\" and \"?\" */\n",
              "\n",
              ".sk-estimator-doc-link,\n",
              "a:link.sk-estimator-doc-link,\n",
              "a:visited.sk-estimator-doc-link {\n",
              "  float: right;\n",
              "  font-size: smaller;\n",
              "  line-height: 1em;\n",
              "  font-family: monospace;\n",
              "  background-color: var(--sklearn-color-background);\n",
              "  border-radius: 1em;\n",
              "  height: 1em;\n",
              "  width: 1em;\n",
              "  text-decoration: none !important;\n",
              "  margin-left: 1ex;\n",
              "  /* unfitted */\n",
              "  border: var(--sklearn-color-unfitted-level-1) 1pt solid;\n",
              "  color: var(--sklearn-color-unfitted-level-1);\n",
              "}\n",
              "\n",
              ".sk-estimator-doc-link.fitted,\n",
              "a:link.sk-estimator-doc-link.fitted,\n",
              "a:visited.sk-estimator-doc-link.fitted {\n",
              "  /* fitted */\n",
              "  border: var(--sklearn-color-fitted-level-1) 1pt solid;\n",
              "  color: var(--sklearn-color-fitted-level-1);\n",
              "}\n",
              "\n",
              "/* On hover */\n",
              "div.sk-estimator:hover .sk-estimator-doc-link:hover,\n",
              ".sk-estimator-doc-link:hover,\n",
              "div.sk-label-container:hover .sk-estimator-doc-link:hover,\n",
              ".sk-estimator-doc-link:hover {\n",
              "  /* unfitted */\n",
              "  background-color: var(--sklearn-color-unfitted-level-3);\n",
              "  color: var(--sklearn-color-background);\n",
              "  text-decoration: none;\n",
              "}\n",
              "\n",
              "div.sk-estimator.fitted:hover .sk-estimator-doc-link.fitted:hover,\n",
              ".sk-estimator-doc-link.fitted:hover,\n",
              "div.sk-label-container:hover .sk-estimator-doc-link.fitted:hover,\n",
              ".sk-estimator-doc-link.fitted:hover {\n",
              "  /* fitted */\n",
              "  background-color: var(--sklearn-color-fitted-level-3);\n",
              "  color: var(--sklearn-color-background);\n",
              "  text-decoration: none;\n",
              "}\n",
              "\n",
              "/* Span, style for the box shown on hovering the info icon */\n",
              ".sk-estimator-doc-link span {\n",
              "  display: none;\n",
              "  z-index: 9999;\n",
              "  position: relative;\n",
              "  font-weight: normal;\n",
              "  right: .2ex;\n",
              "  padding: .5ex;\n",
              "  margin: .5ex;\n",
              "  width: min-content;\n",
              "  min-width: 20ex;\n",
              "  max-width: 50ex;\n",
              "  color: var(--sklearn-color-text);\n",
              "  box-shadow: 2pt 2pt 4pt #999;\n",
              "  /* unfitted */\n",
              "  background: var(--sklearn-color-unfitted-level-0);\n",
              "  border: .5pt solid var(--sklearn-color-unfitted-level-3);\n",
              "}\n",
              "\n",
              ".sk-estimator-doc-link.fitted span {\n",
              "  /* fitted */\n",
              "  background: var(--sklearn-color-fitted-level-0);\n",
              "  border: var(--sklearn-color-fitted-level-3);\n",
              "}\n",
              "\n",
              ".sk-estimator-doc-link:hover span {\n",
              "  display: block;\n",
              "}\n",
              "\n",
              "/* \"?\"-specific style due to the `<a>` HTML tag */\n",
              "\n",
              "#sk-container-id-1 a.estimator_doc_link {\n",
              "  float: right;\n",
              "  font-size: 1rem;\n",
              "  line-height: 1em;\n",
              "  font-family: monospace;\n",
              "  background-color: var(--sklearn-color-background);\n",
              "  border-radius: 1rem;\n",
              "  height: 1rem;\n",
              "  width: 1rem;\n",
              "  text-decoration: none;\n",
              "  /* unfitted */\n",
              "  color: var(--sklearn-color-unfitted-level-1);\n",
              "  border: var(--sklearn-color-unfitted-level-1) 1pt solid;\n",
              "}\n",
              "\n",
              "#sk-container-id-1 a.estimator_doc_link.fitted {\n",
              "  /* fitted */\n",
              "  border: var(--sklearn-color-fitted-level-1) 1pt solid;\n",
              "  color: var(--sklearn-color-fitted-level-1);\n",
              "}\n",
              "\n",
              "/* On hover */\n",
              "#sk-container-id-1 a.estimator_doc_link:hover {\n",
              "  /* unfitted */\n",
              "  background-color: var(--sklearn-color-unfitted-level-3);\n",
              "  color: var(--sklearn-color-background);\n",
              "  text-decoration: none;\n",
              "}\n",
              "\n",
              "#sk-container-id-1 a.estimator_doc_link.fitted:hover {\n",
              "  /* fitted */\n",
              "  background-color: var(--sklearn-color-fitted-level-3);\n",
              "}\n",
              "</style><div id=\"sk-container-id-1\" class=\"sk-top-container\"><div class=\"sk-text-repr-fallback\"><pre>PolynomialFeatures()</pre><b>In a Jupyter environment, please rerun this cell to show the HTML representation or trust the notebook. <br />On GitHub, the HTML representation is unable to render, please try loading this page with nbviewer.org.</b></div><div class=\"sk-container\" hidden><div class=\"sk-item\"><div class=\"sk-estimator fitted sk-toggleable\"><input class=\"sk-toggleable__control sk-hidden--visually\" id=\"sk-estimator-id-1\" type=\"checkbox\" checked><label for=\"sk-estimator-id-1\" class=\"sk-toggleable__label fitted sk-toggleable__label-arrow fitted\">&nbsp;&nbsp;PolynomialFeatures<a class=\"sk-estimator-doc-link fitted\" rel=\"noreferrer\" target=\"_blank\" href=\"https://scikit-learn.org/1.5/modules/generated/sklearn.preprocessing.PolynomialFeatures.html\">?<span>Documentation for PolynomialFeatures</span></a><span class=\"sk-estimator-doc-link fitted\">i<span>Fitted</span></span></label><div class=\"sk-toggleable__content fitted\"><pre>PolynomialFeatures()</pre></div> </div></div></div></div>"
            ]
          },
          "metadata": {},
          "execution_count": 17
        }
      ]
    },
    {
      "cell_type": "code",
      "source": [
        "X_2 = transformation.transform(X)"
      ],
      "metadata": {
        "id": "uYbPZoSHp5Kw"
      },
      "execution_count": null,
      "outputs": []
    },
    {
      "cell_type": "markdown",
      "source": [
        "Мы всегда рекомендуем в таких случаях создавать именно новую переменную, а не перезаписывать имеющуюся. Это избавит нас от многих проблем при отладке и повторном выполнении кода."
      ],
      "metadata": {
        "id": "nA_D7Ujjp_zS"
      }
    },
    {
      "cell_type": "code",
      "source": [
        "X_2.shape\n",
        "X_2[:5]"
      ],
      "metadata": {
        "colab": {
          "base_uri": "https://localhost:8080/"
        },
        "id": "nm4UFrwxp6dk",
        "outputId": "f5d5b108-1d1b-4add-bba0-a78461925370"
      },
      "execution_count": null,
      "outputs": [
        {
          "output_type": "execute_result",
          "data": {
            "text/plain": [
              "array([[1.00000000e+00, 9.65977805e+01, 9.33113119e+03],\n",
              "       [1.00000000e+00, 4.80028921e+01, 2.30427765e+03],\n",
              "       [1.00000000e+00, 4.79397558e+01, 2.29822018e+03],\n",
              "       [1.00000000e+00, 4.78090258e+01, 2.28570295e+03],\n",
              "       [1.00000000e+00, 6.97844271e+01, 4.86986627e+03]])"
            ]
          },
          "metadata": {},
          "execution_count": 19
        }
      ]
    },
    {
      "cell_type": "markdown",
      "source": [
        "Мы видим, что он состоит из трех колонок. Первая - это автоматически добавляемая колонка, состоящая из одних единиц (так называемый bias). Ее добавление можно отключить. Вторая - это наш исходный x. А третья - это как раз x 2 - то есть полиномиальный признак."
      ],
      "metadata": {
        "id": "u4FqwrXHqDLL"
      }
    },
    {
      "cell_type": "code",
      "source": [
        "poly_2d = LinearRegression().fit(X_2, y)"
      ],
      "metadata": {
        "id": "O4Oody-Cp8g5"
      },
      "execution_count": null,
      "outputs": []
    },
    {
      "cell_type": "markdown",
      "source": [
        "Мы построили полиномиальную модель и хотим изобразить ее на графике. Для этого мы можем использовать уже имеющийся у нас массив xx. Но его теперь нужно преобразовать. Причем преобразовать именно так, как мы преобразовывали сам датасет. Именно для этого и служит объект трансформации. Единожды обучив его мы можем трансформировать единообразно сколько угодно разных датасетов."
      ],
      "metadata": {
        "id": "wMRkAcunqLQh"
      }
    },
    {
      "cell_type": "code",
      "source": [
        "xx_2d = transformation.transform(pd.DataFrame(xx))"
      ],
      "metadata": {
        "colab": {
          "base_uri": "https://localhost:8080/"
        },
        "id": "5KrTMoo6qFpU",
        "outputId": "5d7f7549-d8ee-4aed-dd87-64fe76099ae6"
      },
      "execution_count": null,
      "outputs": [
        {
          "output_type": "stream",
          "name": "stderr",
          "text": [
            "/usr/local/lib/python3.10/dist-packages/sklearn/base.py:493: UserWarning: X does not have valid feature names, but PolynomialFeatures was fitted with feature names\n",
            "  warnings.warn(\n"
          ]
        }
      ]
    },
    {
      "cell_type": "code",
      "source": [
        "yy_2d = poly_2d.predict(xx_2d)\n",
        "plt.scatter(X.x, y)\n",
        "plt.plot(xx, yy_2d, c='r')"
      ],
      "metadata": {
        "colab": {
          "base_uri": "https://localhost:8080/",
          "height": 447
        },
        "id": "fT3hOVxVqIC9",
        "outputId": "6ad44790-5448-409a-b439-9d18228a36b1"
      },
      "execution_count": null,
      "outputs": [
        {
          "output_type": "execute_result",
          "data": {
            "text/plain": [
              "[<matplotlib.lines.Line2D at 0x7d6197cb2980>]"
            ]
          },
          "metadata": {},
          "execution_count": 22
        },
        {
          "output_type": "display_data",
          "data": {
            "text/plain": [
              "<Figure size 640x480 with 1 Axes>"
            ],
            "image/png": "[encoded data removed]"
          },
          "metadata": {}
        }
      ]
    },
    {
      "cell_type": "markdown",
      "source": [
        "На графике мы видим, что линия регрессии уже стала кривой - это и есть наша кривая второго порядка. Она, как видно, гораздо ближе к точкам, чем линейна функция. Это численно подтверждает и значение коэффициента детерминации второй модели"
      ],
      "metadata": {
        "id": "lGsjZBfiqUY6"
      }
    },
    {
      "cell_type": "code",
      "source": [
        "poly_2d.score(X_2, y)"
      ],
      "metadata": {
        "colab": {
          "base_uri": "https://localhost:8080/"
        },
        "id": "6uN3K7zxqOWu",
        "outputId": "8897886c-6d48-466b-83e1-666f8da5d8ac"
      },
      "execution_count": null,
      "outputs": [
        {
          "output_type": "execute_result",
          "data": {
            "text/plain": [
              "0.7359753787024842"
            ]
          },
          "metadata": {},
          "execution_count": 23
        }
      ]
    },
    {
      "cell_type": "markdown",
      "source": [
        "Таким образом можно сделать вывод, что вторая модель (полиномиальная регрессия второго порядка) значительно лучше первой (линейной) описывает точки нашего набора данных. А значи эта модель будет давать гораздо более точные предсказания."
      ],
      "metadata": {
        "id": "68IIveWaqXyi"
      }
    },
    {
      "cell_type": "markdown",
      "source": [
        "## В качестве второго примера разберем применение полиномиальных моделей для задач классификации. Вы увидите, что на практике это не сильно отличается от их применения в задачах регрессии.\n"
      ],
      "metadata": {
        "id": "gdcJXx0aqcIQ"
      }
    },
    {
      "cell_type": "code",
      "source": [
        "data = pd.read_csv(\"https://raw.githubusercontent.com/koroteevmv/ML_course/2023/ML3.1%20polynomial%20features/gen_classification.csv\",\n",
        "                   index_col=0)"
      ],
      "metadata": {
        "id": "cbFUPcU_qSLT"
      },
      "execution_count": null,
      "outputs": []
    },
    {
      "cell_type": "code",
      "source": [
        "y = data.y\n",
        "X = data.drop([\"y\"], axis=1)"
      ],
      "metadata": {
        "id": "FSy2Ky-fqfAA"
      },
      "execution_count": null,
      "outputs": []
    },
    {
      "cell_type": "markdown",
      "source": [
        "Построим этот датасет на графике. При предварительном анализе данных мы должны были увидеть, что в целевой переменной содержится всего два значения. Это значит, что перед нами задача бинарной классификации:"
      ],
      "metadata": {
        "id": "9CuKUeFsqmCi"
      }
    },
    {
      "cell_type": "code",
      "source": [
        "plt.scatter(X.iloc[:, 0][y==0], X.iloc[:, 1][y==0], marker=\"o\", c='r', s=100)\n",
        "plt.scatter(X.iloc[:, 0][y==1], X.iloc[:, 1][y==1], marker=\"x\", c='b', s=100)"
      ],
      "metadata": {
        "colab": {
          "base_uri": "https://localhost:8080/",
          "height": 447
        },
        "id": "bmBHUnHsqhkR",
        "outputId": "c7551036-1114-4819-c245-6c3e6d3b74c7"
      },
      "execution_count": null,
      "outputs": [
        {
          "output_type": "execute_result",
          "data": {
            "text/plain": [
              "<matplotlib.collections.PathCollection at 0x7d61a6a97550>"
            ]
          },
          "metadata": {},
          "execution_count": 26
        },
        {
          "output_type": "display_data",
          "data": {
            "text/plain": [
              "<Figure size 640x480 with 1 Axes>"
            ],
            "image/png": "[encoded data removed]"
          },
          "metadata": {}
        }
      ]
    },
    {
      "cell_type": "markdown",
      "source": [
        "На графике ясно видно, что мы имеем дело с линейно неразделимым датасетом. Это может быть прямым показанием к использованию полиномиальной модели:"
      ],
      "metadata": {
        "id": "JlM0paNfqrnC"
      }
    },
    {
      "cell_type": "markdown",
      "source": [
        "Но для начала, как всегда построим самую простую - линейную - модель. Так как мы имеем дело с классификацией, нам понадобится модель логистической регрессии."
      ],
      "metadata": {
        "id": "ayp2AbiGqxoj"
      }
    },
    {
      "cell_type": "code",
      "source": [
        "from sklearn.linear_model import LogisticRegression"
      ],
      "metadata": {
        "id": "I5UQVx2VqjDg"
      },
      "execution_count": null,
      "outputs": []
    },
    {
      "cell_type": "code",
      "source": [
        "logistic = LogisticRegression().fit(X, y)"
      ],
      "metadata": {
        "id": "Xjy6mux4qvYi"
      },
      "execution_count": null,
      "outputs": []
    },
    {
      "cell_type": "code",
      "source": [
        "xx, yy = np.meshgrid(\n",
        "    np.arange(X.min()[0], X.max()[0]+0.1, 0.01),\n",
        "    np.arange(X.min()[1], X.max()[1]+0.1, 0.01))\n",
        "XX = np.array(list(zip(xx.ravel(), yy.ravel()))).reshape((-1, 2))\n",
        "\n",
        "Z = logistic.predict(XX).reshape(xx.shape)\n",
        "\n",
        "plt.contourf(xx, yy, Z, alpha=0.4)\n",
        "plt.scatter(X.iloc[:, 0][y==0], X.iloc[:, 1][y==0], marker=\"o\", c='r', s=100)\n",
        "plt.scatter(X.iloc[:, 0][y==1], X.iloc[:, 1][y==1], marker=\"x\", c='b', s=100)"
      ],
      "metadata": {
        "colab": {
          "base_uri": "https://localhost:8080/",
          "height": 571
        },
        "id": "klmEV9_4qzcQ",
        "outputId": "5cfd2aae-faaa-4ea1-db82-37c39ac696dd"
      },
      "execution_count": null,
      "outputs": [
        {
          "output_type": "stream",
          "name": "stderr",
          "text": [
            "<ipython-input-29-bc09005cf8c9>:2: FutureWarning: Series.__getitem__ treating keys as positions is deprecated. In a future version, integer keys will always be treated as labels (consistent with DataFrame behavior). To access a value by position, use `ser.iloc[pos]`\n",
            "  np.arange(X.min()[0], X.max()[0]+0.1, 0.01),\n",
            "<ipython-input-29-bc09005cf8c9>:3: FutureWarning: Series.__getitem__ treating keys as positions is deprecated. In a future version, integer keys will always be treated as labels (consistent with DataFrame behavior). To access a value by position, use `ser.iloc[pos]`\n",
            "  np.arange(X.min()[1], X.max()[1]+0.1, 0.01))\n",
            "/usr/local/lib/python3.10/dist-packages/sklearn/base.py:493: UserWarning: X does not have valid feature names, but LogisticRegression was fitted with feature names\n",
            "  warnings.warn(\n"
          ]
        },
        {
          "output_type": "execute_result",
          "data": {
            "text/plain": [
              "<matplotlib.collections.PathCollection at 0x7d61a5c8ccd0>"
            ]
          },
          "metadata": {},
          "execution_count": 29
        },
        {
          "output_type": "display_data",
          "data": {
            "text/plain": [
              "<Figure size 640x480 with 1 Axes>"
            ],
            "image/png": "[encoded data removed]"
          },
          "metadata": {}
        }
      ]
    },
    {
      "cell_type": "markdown",
      "source": [
        "Мы увидим линейную границу принятия решений:\n",
        "Очевидно, такая модель часто ошибается и не очень точна. Чтобы подтвердить такой вывод мы выведем значение метрики точности для нашей модели:"
      ],
      "metadata": {
        "id": "4i-Kla_Cq61t"
      }
    },
    {
      "cell_type": "code",
      "source": [
        "logistic.score(X, y)"
      ],
      "metadata": {
        "colab": {
          "base_uri": "https://localhost:8080/"
        },
        "id": "6UY4hnDeq1mc",
        "outputId": "4afe0380-e757-4855-9508-187230b64344"
      },
      "execution_count": null,
      "outputs": [
        {
          "output_type": "execute_result",
          "data": {
            "text/plain": [
              "0.832"
            ]
          },
          "metadata": {},
          "execution_count": 30
        }
      ]
    },
    {
      "cell_type": "markdown",
      "source": [
        "Точность в 83% может показаться удовлетворительно, но из графика видно, насколько часто модель относит точки к неправильному классу. При анализе графика также можно предположить, что нелинейная (полиномиальная) граница принятия решения может нам существенно помочь.\n",
        "\n",
        "Для построения нелинейной модели также создадим объект преобразования и применим его на нашей обучающей выборке (матрице атрибутов). Но сейчас мы сделаем все тоже самое короче. Для этого можно воспользоваться методом fit_transform(), который подстраивает преобразование и сразу применяет его"
      ],
      "metadata": {
        "id": "5CMYN6FarCEr"
      }
    },
    {
      "cell_type": "code",
      "source": [
        "class_transform = PolynomialFeatures(degree=3, include_bias=False)\n",
        "X_3 = class_transform.fit_transform(X)"
      ],
      "metadata": {
        "id": "ShUwhcO-q-k2"
      },
      "execution_count": null,
      "outputs": []
    },
    {
      "cell_type": "code",
      "source": [
        "X_3.shape"
      ],
      "metadata": {
        "colab": {
          "base_uri": "https://localhost:8080/"
        },
        "id": "iwzaKtBZrDwQ",
        "outputId": "23d49857-586f-43bc-9ae3-75b41f59b425"
      },
      "execution_count": null,
      "outputs": [
        {
          "output_type": "execute_result",
          "data": {
            "text/plain": [
              "(250, 9)"
            ]
          },
          "metadata": {},
          "execution_count": 32
        }
      ]
    },
    {
      "cell_type": "code",
      "source": [
        "class_3 = LogisticRegression().fit(X_3, y)"
      ],
      "metadata": {
        "id": "PVlCKAsorHwY"
      },
      "execution_count": null,
      "outputs": []
    },
    {
      "cell_type": "code",
      "source": [
        "Z = class_3.predict(class_transform.transform(XX)).reshape(xx.shape)\n",
        "\n",
        "plt.contourf(xx, yy, Z, alpha=0.4)\n",
        "plt.scatter(X.iloc[:, 0][y==0], X.iloc[:, 1][y==0], marker=\"o\", c='r', s=100)\n",
        "plt.scatter(X.iloc[:, 0][y==1], X.iloc[:, 1][y==1], marker=\"x\", c='b', s=100)"
      ],
      "metadata": {
        "colab": {
          "base_uri": "https://localhost:8080/",
          "height": 482
        },
        "id": "eYx8e5SarKOG",
        "outputId": "ea409d1b-194f-434a-fb0a-018802f1359a"
      },
      "execution_count": null,
      "outputs": [
        {
          "output_type": "stream",
          "name": "stderr",
          "text": [
            "/usr/local/lib/python3.10/dist-packages/sklearn/base.py:493: UserWarning: X does not have valid feature names, but PolynomialFeatures was fitted with feature names\n",
            "  warnings.warn(\n"
          ]
        },
        {
          "output_type": "execute_result",
          "data": {
            "text/plain": [
              "<matplotlib.collections.PathCollection at 0x7d61a5c65930>"
            ]
          },
          "metadata": {},
          "execution_count": 34
        },
        {
          "output_type": "display_data",
          "data": {
            "text/plain": [
              "<Figure size 640x480 with 1 Axes>"
            ],
            "image/png": "[encoded data removed]"
          },
          "metadata": {}
        }
      ]
    },
    {
      "cell_type": "markdown",
      "source": [
        "На нем четко видно, что граница принятия решения принимает более сложную форму и за счет этого больше точек классифицируются верно. Это подтверждает и значение метрики точности данной модели:"
      ],
      "metadata": {
        "id": "GTl8F7YdrPwd"
      }
    },
    {
      "cell_type": "code",
      "source": [
        "class_3.score(X_3, y)"
      ],
      "metadata": {
        "colab": {
          "base_uri": "https://localhost:8080/"
        },
        "id": "r7nYINhhrNaN",
        "outputId": "3620cd82-98e5-413c-bbeb-f3c61f89e2bd"
      },
      "execution_count": null,
      "outputs": [
        {
          "output_type": "execute_result",
          "data": {
            "text/plain": [
              "0.9"
            ]
          },
          "metadata": {},
          "execution_count": 35
        }
      ]
    },
    {
      "cell_type": "markdown",
      "source": [
        "Таким образом, делаем вывод, что введение полиномиальных признаков также существенно повышает качество модели бинарной классификации."
      ],
      "metadata": {
        "id": "xQDVPXD1rUyA"
      }
    },
    {
      "cell_type": "markdown",
      "source": [
        "## Регрессия на реальных данных\n",
        "\n",
        "Теперь попробуем применить полиномиальные модели для более сложной и более приближенной к реальной задаче. У нас есть датасет по продажам домов в одном округе США. Загрузим его и сразу выведем его форму:"
      ],
      "metadata": {
        "id": "9pIx0EDcrXIG"
      }
    },
    {
      "cell_type": "code",
      "source": [
        "data_kc_prices = pd.read_csv(\"https://raw.githubusercontent.com/koroteevmv/ML_course/2023/ML3.1%20polynomial%20features/kc_house_data.csv\")\n",
        "data_kc_prices.shape"
      ],
      "metadata": {
        "colab": {
          "base_uri": "https://localhost:8080/"
        },
        "id": "ChEJEwyArSjt",
        "outputId": "fab718d7-a450-4817-c8f9-5520a1136740"
      },
      "execution_count": null,
      "outputs": [
        {
          "output_type": "execute_result",
          "data": {
            "text/plain": [
              "(21613, 21)"
            ]
          },
          "metadata": {},
          "execution_count": 36
        }
      ]
    },
    {
      "cell_type": "code",
      "source": [
        "data_kc_prices.head()"
      ],
      "metadata": {
        "colab": {
          "base_uri": "https://localhost:8080/",
          "height": 255
        },
        "id": "G6SmITjlraUW",
        "outputId": "759b1c14-da42-4ed0-f9cc-b40bd799d925"
      },
      "execution_count": null,
      "outputs": [
        {
          "output_type": "execute_result",
          "data": {
            "text/plain": [
              "           id             date     price  bedrooms  bathrooms  sqft_living  \\\n",
              "0  7129300520  20141013T000000  221900.0         3       1.00         1180   \n",
              "1  6414100192  20141209T000000  538000.0         3       2.25         2570   \n",
              "2  5631500400  20150225T000000  180000.0         2       1.00          770   \n",
              "3  2487200875  20141209T000000  604000.0         4       3.00         1960   \n",
              "4  1954400510  20150218T000000  510000.0         3       2.00         1680   \n",
              "\n",
              "   sqft_lot  floors  waterfront  view  ...  grade  sqft_above  sqft_basement  \\\n",
              "0      5650     1.0           0     0  ...      7        1180              0   \n",
              "1      7242     2.0           0     0  ...      7        2170            400   \n",
              "2     10000     1.0           0     0  ...      6         770              0   \n",
              "3      5000     1.0           0     0  ...      7        1050            910   \n",
              "4      8080     1.0           0     0  ...      8        1680              0   \n",
              "\n",
              "   yr_built  yr_renovated  zipcode      lat     long  sqft_living15  \\\n",
              "0      1955             0    98178  47.5112 -122.257           1340   \n",
              "1      1951          1991    98125  47.7210 -122.319           1690   \n",
              "2      1933             0    98028  47.7379 -122.233           2720   \n",
              "3      1965             0    98136  47.5208 -122.393           1360   \n",
              "4      1987             0    98074  47.6168 -122.045           1800   \n",
              "\n",
              "   sqft_lot15  \n",
              "0        5650  \n",
              "1        7639  \n",
              "2        8062  \n",
              "3        5000  \n",
              "4        7503  \n",
              "\n",
              "[5 rows x 21 columns]"
            ],
            "text/html": [
              "\n",
              "  <div id=\"df-09d675f9-4fab-4bf8-b27c-c0790b04a988\" class=\"colab-df-container\">\n",
              "    <div>\n",
              "<style scoped>\n",
              "    .dataframe tbody tr th:only-of-type {\n",
              "        vertical-align: middle;\n",
              "    }\n",
              "\n",
              "    .dataframe tbody tr th {\n",
              "        vertical-align: top;\n",
              "    }\n",
              "\n",
              "    .dataframe thead th {\n",
              "        text-align: right;\n",
              "    }\n",
              "</style>\n",
              "<table border=\"1\" class=\"dataframe\">\n",
              "  <thead>\n",
              "    <tr style=\"text-align: right;\">\n",
              "      <th></th>\n",
              "      <th>id</th>\n",
              "      <th>date</th>\n",
              "      <th>price</th>\n",
              "      <th>bedrooms</th>\n",
              "      <th>bathrooms</th>\n",
              "      <th>sqft_living</th>\n",
              "      <th>sqft_lot</th>\n",
              "      <th>floors</th>\n",
              "      <th>waterfront</th>\n",
              "      <th>view</th>\n",
              "      <th>...</th>\n",
              "      <th>grade</th>\n",
              "      <th>sqft_above</th>\n",
              "      <th>sqft_basement</th>\n",
              "      <th>yr_built</th>\n",
              "      <th>yr_renovated</th>\n",
              "      <th>zipcode</th>\n",
              "      <th>lat</th>\n",
              "      <th>long</th>\n",
              "      <th>sqft_living15</th>\n",
              "      <th>sqft_lot15</th>\n",
              "    </tr>\n",
              "  </thead>\n",
              "  <tbody>\n",
              "    <tr>\n",
              "      <th>0</th>\n",
              "      <td>7129300520</td>\n",
              "      <td>20141013T000000</td>\n",
              "      <td>221900.0</td>\n",
              "      <td>3</td>\n",
              "      <td>1.00</td>\n",
              "      <td>1180</td>\n",
              "      <td>5650</td>\n",
              "      <td>1.0</td>\n",
              "      <td>0</td>\n",
              "      <td>0</td>\n",
              "      <td>...</td>\n",
              "      <td>7</td>\n",
              "      <td>1180</td>\n",
              "      <td>0</td>\n",
              "      <td>1955</td>\n",
              "      <td>0</td>\n",
              "      <td>98178</td>\n",
              "      <td>47.5112</td>\n",
              "      <td>-122.257</td>\n",
              "      <td>1340</td>\n",
              "      <td>5650</td>\n",
              "    </tr>\n",
              "    <tr>\n",
              "      <th>1</th>\n",
              "      <td>6414100192</td>\n",
              "      <td>20141209T000000</td>\n",
              "      <td>538000.0</td>\n",
              "      <td>3</td>\n",
              "      <td>2.25</td>\n",
              "      <td>2570</td>\n",
              "      <td>7242</td>\n",
              "      <td>2.0</td>\n",
              "      <td>0</td>\n",
              "      <td>0</td>\n",
              "      <td>...</td>\n",
              "      <td>7</td>\n",
              "      <td>2170</td>\n",
              "      <td>400</td>\n",
              "      <td>1951</td>\n",
              "      <td>1991</td>\n",
              "      <td>98125</td>\n",
              "      <td>47.7210</td>\n",
              "      <td>-122.319</td>\n",
              "      <td>1690</td>\n",
              "      <td>7639</td>\n",
              "    </tr>\n",
              "    <tr>\n",
              "      <th>2</th>\n",
              "      <td>5631500400</td>\n",
              "      <td>20150225T000000</td>\n",
              "      <td>180000.0</td>\n",
              "      <td>2</td>\n",
              "      <td>1.00</td>\n",
              "      <td>770</td>\n",
              "      <td>10000</td>\n",
              "      <td>1.0</td>\n",
              "      <td>0</td>\n",
              "      <td>0</td>\n",
              "      <td>...</td>\n",
              "      <td>6</td>\n",
              "      <td>770</td>\n",
              "      <td>0</td>\n",
              "      <td>1933</td>\n",
              "      <td>0</td>\n",
              "      <td>98028</td>\n",
              "      <td>47.7379</td>\n",
              "      <td>-122.233</td>\n",
              "      <td>2720</td>\n",
              "      <td>8062</td>\n",
              "    </tr>\n",
              "    <tr>\n",
              "      <th>3</th>\n",
              "      <td>2487200875</td>\n",
              "      <td>20141209T000000</td>\n",
              "      <td>604000.0</td>\n",
              "      <td>4</td>\n",
              "      <td>3.00</td>\n",
              "      <td>1960</td>\n",
              "      <td>5000</td>\n",
              "      <td>1.0</td>\n",
              "      <td>0</td>\n",
              "      <td>0</td>\n",
              "      <td>...</td>\n",
              "      <td>7</td>\n",
              "      <td>1050</td>\n",
              "      <td>910</td>\n",
              "      <td>1965</td>\n",
              "      <td>0</td>\n",
              "      <td>98136</td>\n",
              "      <td>47.5208</td>\n",
              "      <td>-122.393</td>\n",
              "      <td>1360</td>\n",
              "      <td>5000</td>\n",
              "    </tr>\n",
              "    <tr>\n",
              "      <th>4</th>\n",
              "      <td>1954400510</td>\n",
              "      <td>20150218T000000</td>\n",
              "      <td>510000.0</td>\n",
              "      <td>3</td>\n",
              "      <td>2.00</td>\n",
              "      <td>1680</td>\n",
              "      <td>8080</td>\n",
              "      <td>1.0</td>\n",
              "      <td>0</td>\n",
              "      <td>0</td>\n",
              "      <td>...</td>\n",
              "      <td>8</td>\n",
              "      <td>1680</td>\n",
              "      <td>0</td>\n",
              "      <td>1987</td>\n",
              "      <td>0</td>\n",
              "      <td>98074</td>\n",
              "      <td>47.6168</td>\n",
              "      <td>-122.045</td>\n",
              "      <td>1800</td>\n",
              "      <td>7503</td>\n",
              "    </tr>\n",
              "  </tbody>\n",
              "</table>\n",
              "<p>5 rows × 21 columns</p>\n",
              "</div>\n",
              "    <div class=\"colab-df-buttons\">\n",
              "\n",
              "  <div class=\"colab-df-container\">\n",
              "    <button class=\"colab-df-convert\" onclick=\"convertToInteractive('df-09d675f9-4fab-4bf8-b27c-c0790b04a988')\"\n",
              "            title=\"Convert this dataframe to an interactive table.\"\n",
              "            style=\"display:none;\">\n",
              "\n",
              "  <svg xmlns=\"http://www.w3.org/2000/svg\" height=\"24px\" viewBox=\"0 -960 960 960\">\n",
              "    <path d=\"M120-120v-720h720v720H120Zm60-500h600v-160H180v160Zm220 220h160v-160H400v160Zm0 220h160v-160H400v160ZM180-400h160v-160H180v160Zm440 0h160v-160H620v160ZM180-180h160v-160H180v160Zm440 0h160v-160H620v160Z\"/>\n",
              "  </svg>\n",
              "    </button>\n",
              "\n",
              "  <style>\n",
              "    .colab-df-container {\n",
              "      display:flex;\n",
              "      gap: 12px;\n",
              "    }\n",
              "\n",
              "    .colab-df-convert {\n",
              "      background-color: #E8F0FE;\n",
              "      border: none;\n",
              "      border-radius: 50%;\n",
              "      cursor: pointer;\n",
              "      display: none;\n",
              "      fill: #1967D2;\n",
              "      height: 32px;\n",
              "      padding: 0 0 0 0;\n",
              "      width: 32px;\n",
              "    }\n",
              "\n",
              "    .colab-df-convert:hover {\n",
              "      background-color: #E2EBFA;\n",
              "      box-shadow: 0px 1px 2px rgba(60, 64, 67, 0.3), 0px 1px 3px 1px rgba(60, 64, 67, 0.15);\n",
              "      fill: #174EA6;\n",
              "    }\n",
              "\n",
              "    .colab-df-buttons div {\n",
              "      margin-bottom: 4px;\n",
              "    }\n",
              "\n",
              "    [theme=dark] .colab-df-convert {\n",
              "      background-color: #3B4455;\n",
              "      fill: #D2E3FC;\n",
              "    }\n",
              "\n",
              "    [theme=dark] .colab-df-convert:hover {\n",
              "      background-color: #434B5C;\n",
              "      box-shadow: 0px 1px 3px 1px rgba(0, 0, 0, 0.15);\n",
              "      filter: drop-shadow(0px 1px 2px rgba(0, 0, 0, 0.3));\n",
              "      fill: #FFFFFF;\n",
              "    }\n",
              "  </style>\n",
              "\n",
              "    <script>\n",
              "      const buttonEl =\n",
              "        document.querySelector('#df-09d675f9-4fab-4bf8-b27c-c0790b04a988 button.colab-df-convert');\n",
              "      buttonEl.style.display =\n",
              "        google.colab.kernel.accessAllowed ? 'block' : 'none';\n",
              "\n",
              "      async function convertToInteractive(key) {\n",
              "        const element = document.querySelector('#df-09d675f9-4fab-4bf8-b27c-c0790b04a988');\n",
              "        const dataTable =\n",
              "          await google.colab.kernel.invokeFunction('convertToInteractive',\n",
              "                                                    [key], {});\n",
              "        if (!dataTable) return;\n",
              "\n",
              "        const docLinkHtml = 'Like what you see? Visit the ' +\n",
              "          '<a target=\"_blank\" href=https://colab.research.google.com/notebooks/data_table.ipynb>data table notebook</a>'\n",
              "          + ' to learn more about interactive tables.';\n",
              "        element.innerHTML = '';\n",
              "        dataTable['output_type'] = 'display_data';\n",
              "        await google.colab.output.renderOutput(dataTable, element);\n",
              "        const docLink = document.createElement('div');\n",
              "        docLink.innerHTML = docLinkHtml;\n",
              "        element.appendChild(docLink);\n",
              "      }\n",
              "    </script>\n",
              "  </div>\n",
              "\n",
              "\n",
              "<div id=\"df-700897b3-7aff-4a3d-b3d2-5ea606fe9454\">\n",
              "  <button class=\"colab-df-quickchart\" onclick=\"quickchart('df-700897b3-7aff-4a3d-b3d2-5ea606fe9454')\"\n",
              "            title=\"Suggest charts\"\n",
              "            style=\"display:none;\">\n",
              "\n",
              "<svg xmlns=\"http://www.w3.org/2000/svg\" height=\"24px\"viewBox=\"0 0 24 24\"\n",
              "     width=\"24px\">\n",
              "    <g>\n",
              "        <path d=\"M19 3H5c-1.1 0-2 .9-2 2v14c0 1.1.9 2 2 2h14c1.1 0 2-.9 2-2V5c0-1.1-.9-2-2-2zM9 17H7v-7h2v7zm4 0h-2V7h2v10zm4 0h-2v-4h2v4z\"/>\n",
              "    </g>\n",
              "</svg>\n",
              "  </button>\n",
              "\n",
              "<style>\n",
              "  .colab-df-quickchart {\n",
              "      --bg-color: #E8F0FE;\n",
              "      --fill-color: #1967D2;\n",
              "      --hover-bg-color: #E2EBFA;\n",
              "      --hover-fill-color: #174EA6;\n",
              "      --disabled-fill-color: #AAA;\n",
              "      --disabled-bg-color: #DDD;\n",
              "  }\n",
              "\n",
              "  [theme=dark] .colab-df-quickchart {\n",
              "      --bg-color: #3B4455;\n",
              "      --fill-color: #D2E3FC;\n",
              "      --hover-bg-color: #434B5C;\n",
              "      --hover-fill-color: #FFFFFF;\n",
              "      --disabled-bg-color: #3B4455;\n",
              "      --disabled-fill-color: #666;\n",
              "  }\n",
              "\n",
              "  .colab-df-quickchart {\n",
              "    background-color: var(--bg-color);\n",
              "    border: none;\n",
              "    border-radius: 50%;\n",
              "    cursor: pointer;\n",
              "    display: none;\n",
              "    fill: var(--fill-color);\n",
              "    height: 32px;\n",
              "    padding: 0;\n",
              "    width: 32px;\n",
              "  }\n",
              "\n",
              "  .colab-df-quickchart:hover {\n",
              "    background-color: var(--hover-bg-color);\n",
              "    box-shadow: 0 1px 2px rgba(60, 64, 67, 0.3), 0 1px 3px 1px rgba(60, 64, 67, 0.15);\n",
              "    fill: var(--button-hover-fill-color);\n",
              "  }\n",
              "\n",
              "  .colab-df-quickchart-complete:disabled,\n",
              "  .colab-df-quickchart-complete:disabled:hover {\n",
              "    background-color: var(--disabled-bg-color);\n",
              "    fill: var(--disabled-fill-color);\n",
              "    box-shadow: none;\n",
              "  }\n",
              "\n",
              "  .colab-df-spinner {\n",
              "    border: 2px solid var(--fill-color);\n",
              "    border-color: transparent;\n",
              "    border-bottom-color: var(--fill-color);\n",
              "    animation:\n",
              "      spin 1s steps(1) infinite;\n",
              "  }\n",
              "\n",
              "  @keyframes spin {\n",
              "    0% {\n",
              "      border-color: transparent;\n",
              "      border-bottom-color: var(--fill-color);\n",
              "      border-left-color: var(--fill-color);\n",
              "    }\n",
              "    20% {\n",
              "      border-color: transparent;\n",
              "      border-left-color: var(--fill-color);\n",
              "      border-top-color: var(--fill-color);\n",
              "    }\n",
              "    30% {\n",
              "      border-color: transparent;\n",
              "      border-left-color: var(--fill-color);\n",
              "      border-top-color: var(--fill-color);\n",
              "      border-right-color: var(--fill-color);\n",
              "    }\n",
              "    40% {\n",
              "      border-color: transparent;\n",
              "      border-right-color: var(--fill-color);\n",
              "      border-top-color: var(--fill-color);\n",
              "    }\n",
              "    60% {\n",
              "      border-color: transparent;\n",
              "      border-right-color: var(--fill-color);\n",
              "    }\n",
              "    80% {\n",
              "      border-color: transparent;\n",
              "      border-right-color: var(--fill-color);\n",
              "      border-bottom-color: var(--fill-color);\n",
              "    }\n",
              "    90% {\n",
              "      border-color: transparent;\n",
              "      border-bottom-color: var(--fill-color);\n",
              "    }\n",
              "  }\n",
              "</style>\n",
              "\n",
              "  <script>\n",
              "    async function quickchart(key) {\n",
              "      const quickchartButtonEl =\n",
              "        document.querySelector('#' + key + ' button');\n",
              "      quickchartButtonEl.disabled = true;  // To prevent multiple clicks.\n",
              "      quickchartButtonEl.classList.add('colab-df-spinner');\n",
              "      try {\n",
              "        const charts = await google.colab.kernel.invokeFunction(\n",
              "            'suggestCharts', [key], {});\n",
              "      } catch (error) {\n",
              "        console.error('Error during call to suggestCharts:', error);\n",
              "      }\n",
              "      quickchartButtonEl.classList.remove('colab-df-spinner');\n",
              "      quickchartButtonEl.classList.add('colab-df-quickchart-complete');\n",
              "    }\n",
              "    (() => {\n",
              "      let quickchartButtonEl =\n",
              "        document.querySelector('#df-700897b3-7aff-4a3d-b3d2-5ea606fe9454 button');\n",
              "      quickchartButtonEl.style.display =\n",
              "        google.colab.kernel.accessAllowed ? 'block' : 'none';\n",
              "    })();\n",
              "  </script>\n",
              "</div>\n",
              "\n",
              "    </div>\n",
              "  </div>\n"
            ],
            "application/vnd.google.colaboratory.intrinsic+json": {
              "type": "dataframe",
              "variable_name": "data_kc_prices"
            }
          },
          "metadata": {},
          "execution_count": 37
        }
      ]
    },
    {
      "cell_type": "markdown",
      "source": [
        "Из этой таблицы нам вообще не понадобятся столбцы с датой и номером строки (идентификатором). Их мы уберем. А столбец с ценой будет у нас целевой переменной. Разделим наш датасет на атрибуты и целевую переменную:"
      ],
      "metadata": {
        "id": "KducWh-VriN5"
      }
    },
    {
      "cell_type": "code",
      "source": [
        "y_kc_prices = data_kc_prices.price\n",
        "X_kc_prices = data_kc_prices.drop([\"id\", \"date\", \"price\"], axis=1)"
      ],
      "metadata": {
        "id": "2Z2UlL7Lrdo_"
      },
      "execution_count": null,
      "outputs": []
    },
    {
      "cell_type": "markdown",
      "source": [
        "Обратите внимание, что мы стали использовать более подробные названия переменных. При подробном анализе данных и машинном обучении вам неизбежно придется пробовать разные модели, разные способы обработки данных, разные датасеты. Также как мы сейчас в одном ноутбуке имеет несколько разных наборов данных, объектов моделей, объектов преобразования данных. Хорошей идеей будет не использовать каждый раз одни и те же короткие имена переменных. Во-первых, это не очень информативно и понятно. Взглянув на участок кода вы не поймете сразу, какую модель или какие данные здесь используются, надо либо анализировать широкий контекст кода, либо писать очень подробные комментарии, что не всегда удобно. Во-вторых, вы постоянно перезаписываете одни и те же переменные, что сильно затрудняет повторное использование кода частично по ячейкам.\n",
        "\n",
        "Поэтому мы будем использовать более сложные имена переменных, в которых отражен как сам характер переменной (что за объект внутри) так и то, к какой задаче он относится. Как структурировать имя переменной - вы должны решить сами, исходя из соображений удобства, привычки и читаемости."
      ],
      "metadata": {
        "id": "zaEQvJ9Fro4l"
      }
    },
    {
      "cell_type": "code",
      "source": [
        "X_kc_prices.shape, y_kc_prices.shape"
      ],
      "metadata": {
        "colab": {
          "base_uri": "https://localhost:8080/"
        },
        "id": "6s-ne039rgJZ",
        "outputId": "15b58fa4-a619-4d77-879a-b975db9e02ca"
      },
      "execution_count": null,
      "outputs": [
        {
          "output_type": "execute_result",
          "data": {
            "text/plain": [
              "((21613, 18), (21613,))"
            ]
          },
          "metadata": {},
          "execution_count": 39
        }
      ]
    },
    {
      "cell_type": "markdown",
      "source": [
        "Основная сложность при обучении моделей на практике в том, что мы не можем изобразить все данные на графике. Сейчас у нас есть 18 колонок, которые невозможно одновременно построить в одной плоскости. Поэтому нам придется многие действия совершать \"вслепую\". Например, мы не знаем, какова зависимость между атрибутами и целевой переменной. Поэтому единственный разумный путь - начать строить модели от простого к сложному. Так что начнем с самой простой модели - линейной регрессии:"
      ],
      "metadata": {
        "id": "WAgRR4LortpS"
      }
    },
    {
      "cell_type": "code",
      "source": [
        "reg_kc_multiple = LinearRegression().fit(X_kc_prices, y_kc_prices)\n",
        "reg_kc_multiple.score(X_kc_prices, y_kc_prices)"
      ],
      "metadata": {
        "colab": {
          "base_uri": "https://localhost:8080/"
        },
        "id": "eeCWLSNsrrbH",
        "outputId": "8b2ed81c-19dd-4850-9d31-81205a184b03"
      },
      "execution_count": null,
      "outputs": [
        {
          "output_type": "execute_result",
          "data": {
            "text/plain": [
              "0.6997471890109161"
            ]
          },
          "metadata": {},
          "execution_count": 40
        }
      ]
    },
    {
      "cell_type": "markdown",
      "source": [
        "Мы сразу и обучили модель и оценили ее точность. Получилось значение 70%. Мы можем построить график отклонения реальные значений от предсказанных:"
      ],
      "metadata": {
        "id": "56mzrOqhryiO"
      }
    },
    {
      "cell_type": "code",
      "source": [
        "y_pred_kc_prices = reg_kc_multiple.predict(X_kc_prices)\n",
        "plt.scatter(y_pred_kc_prices, y_kc_prices)\n",
        "plt.plot(y_pred_kc_prices, y_pred_kc_prices, c='r')"
      ],
      "metadata": {
        "colab": {
          "base_uri": "https://localhost:8080/",
          "height": 480
        },
        "id": "6kCGIP3krvQ9",
        "outputId": "79319f5b-a79a-43e5-a87b-a17805eccf93"
      },
      "execution_count": null,
      "outputs": [
        {
          "output_type": "execute_result",
          "data": {
            "text/plain": [
              "[<matplotlib.lines.Line2D at 0x7d61a5c2b880>]"
            ]
          },
          "metadata": {},
          "execution_count": 41
        },
        {
          "output_type": "display_data",
          "data": {
            "text/plain": [
              "<Figure size 640x480 with 1 Axes>"
            ],
            "image/png": "[encoded data removed]"
          },
          "metadata": {}
        }
      ]
    },
    {
      "cell_type": "code",
      "source": [
        "X_3_kc_prices = (poly_features_kc_prices := PolynomialFeatures(degree=3)).fit_transform(X_kc_prices)"
      ],
      "metadata": {
        "id": "pdfMka1mr0sn"
      },
      "execution_count": null,
      "outputs": []
    },
    {
      "cell_type": "markdown",
      "source": [
        "Здесь мы создали объект трансформации и применили его в одно действие. Для этого используется довольно редки в питоне \"моржовый оператор\" (walrus operator). Давайте для интереса выведем форму получившегося массива:"
      ],
      "metadata": {
        "id": "jDxN61EQsKLt"
      }
    },
    {
      "cell_type": "code",
      "source": [
        "X_3_kc_prices.shape"
      ],
      "metadata": {
        "colab": {
          "base_uri": "https://localhost:8080/"
        },
        "id": "V7Z4qP2TsCVu",
        "outputId": "f7237bf5-80f9-446d-b05a-d6a834695128"
      },
      "execution_count": null,
      "outputs": [
        {
          "output_type": "execute_result",
          "data": {
            "text/plain": [
              "(21613, 1330)"
            ]
          },
          "metadata": {},
          "execution_count": 43
        }
      ]
    },
    {
      "cell_type": "code",
      "source": [
        "reg_poly2_kc = LinearRegression().fit(X_3_kc_prices, y_kc_prices)\n",
        "reg_poly2_kc.score(X_3_kc_prices, y_kc_prices)"
      ],
      "metadata": {
        "id": "AJ31uPDysHmF",
        "colab": {
          "base_uri": "https://localhost:8080/"
        },
        "outputId": "68de9fc6-337a-42a3-8a07-178e27bcecac"
      },
      "execution_count": null,
      "outputs": [
        {
          "output_type": "execute_result",
          "data": {
            "text/plain": [
              "0.8659203541563689"
            ]
          },
          "metadata": {},
          "execution_count": 44
        }
      ]
    },
    {
      "cell_type": "markdown",
      "source": [
        "Мы получили значительно более высокий уровень точности - 86,5%. Давайте изобразим отклонения получившейся модели на графике:"
      ],
      "metadata": {
        "id": "jpt8xqP1sPt3"
      }
    },
    {
      "cell_type": "code",
      "source": [
        "y_pred_kc_prices = reg_poly2_kc.predict(X_3_kc_prices)\n",
        "plt.scatter(y_pred_kc_prices, y_kc_prices)\n",
        "plt.plot(y_pred_kc_prices, y_pred_kc_prices, c='r')"
      ],
      "metadata": {
        "id": "XH44fOPrsNYA",
        "colab": {
          "base_uri": "https://localhost:8080/",
          "height": 480
        },
        "outputId": "8949d9ad-e60d-4d6f-e510-9e1c884da585"
      },
      "execution_count": null,
      "outputs": [
        {
          "output_type": "execute_result",
          "data": {
            "text/plain": [
              "[<matplotlib.lines.Line2D at 0x7d61a5bb3790>]"
            ]
          },
          "metadata": {},
          "execution_count": 45
        },
        {
          "output_type": "display_data",
          "data": {
            "text/plain": [
              "<Figure size 640x480 with 1 Axes>"
            ],
            "image/png": "[encoded data removed]"
          },
          "metadata": {}
        }
      ]
    },
    {
      "cell_type": "markdown",
      "source": [
        "Видно, что модель значительно улучшилась, так как точки сильно ближе к прямой. Таким образом, можно сделать вывод о том, что введение полиномиальных признаков второго порядка опять значительно улучшило модель."
      ],
      "metadata": {
        "id": "SWcYuTEH25WP"
      }
    },
    {
      "cell_type": "markdown",
      "source": [
        "# Задания для самостоятельного выполнения"
      ],
      "metadata": {
        "id": "GhTwEQNk3Syg"
      }
    },
    {
      "cell_type": "markdown",
      "source": [
        "\n",
        "\n",
        "1.   В выполненной работе добавьте замер времени обучения каждой модели.\n",
        "\n"
      ],
      "metadata": {
        "id": "XMbtJDR63bsF"
      }
    },
    {
      "cell_type": "code",
      "source": [
        "import time\n",
        "\n",
        "from sklearn.linear_model import LinearRegression\n",
        "start_time = time.time()\n",
        "linear = LinearRegression().fit(X, y)\n",
        "linear_time = time.time() - start_time\n",
        "print(f\"Linear Regression training time: {linear_time:.4f} seconds\")"
      ],
      "metadata": {
        "colab": {
          "base_uri": "https://localhost:8080/"
        },
        "id": "7EUlJPWv36Za",
        "outputId": "a270ab83-725c-41bf-f772-c84ce8d87e6b"
      },
      "execution_count": null,
      "outputs": [
        {
          "output_type": "stream",
          "name": "stdout",
          "text": [
            "Linear Regression training time: 0.0050 seconds\n"
          ]
        }
      ]
    },
    {
      "cell_type": "code",
      "source": [
        "from sklearn.preprocessing import PolynomialFeatures\n",
        "start_time = time.time()\n",
        "transformation = PolynomialFeatures(degree=2)\n",
        "transformation.fit(X)\n",
        "X_2 = transformation.transform(X)\n",
        "poly_2d = LinearRegression().fit(X_2, y)\n",
        "poly_time = time.time() - start_time\n",
        "print(f\"Polynomial Regression (degree 2) training time: {poly_time:.4f} seconds\")"
      ],
      "metadata": {
        "colab": {
          "base_uri": "https://localhost:8080/"
        },
        "id": "7Lcpbk6m6D0D",
        "outputId": "0af17b20-05ad-45e5-d694-c63f08e4e1e1"
      },
      "execution_count": null,
      "outputs": [
        {
          "output_type": "stream",
          "name": "stdout",
          "text": [
            "Polynomial Regression (degree 2) training time: 0.0059 seconds\n"
          ]
        }
      ]
    },
    {
      "cell_type": "code",
      "source": [
        "from sklearn.linear_model import LogisticRegression\n",
        "start_time = time.time()\n",
        "logistic = LogisticRegression().fit(X, y)\n",
        "logistic_time = time.time() - start_time\n",
        "print(f\"Logistic Regression training time: {logistic_time:.4f} seconds\")"
      ],
      "metadata": {
        "colab": {
          "base_uri": "https://localhost:8080/"
        },
        "id": "i7yH7Onz75am",
        "outputId": "8fa4bef7-9dcd-4c09-ea29-229c486eb7c7"
      },
      "execution_count": null,
      "outputs": [
        {
          "output_type": "stream",
          "name": "stdout",
          "text": [
            "Logistic Regression training time: 0.0065 seconds\n"
          ]
        }
      ]
    },
    {
      "cell_type": "code",
      "source": [
        "class_transform = PolynomialFeatures(degree=3, include_bias=False)\n",
        "X_3 = class_transform.fit_transform(X)\n",
        "start_time = time.time()\n",
        "class_3 = LogisticRegression().fit(X_3, y)\n",
        "class_poly_time = time.time() - start_time\n",
        "print(f\"Polynomial Logistic Regression (degree 3) training time: {class_poly_time:.4f} seconds\")"
      ],
      "metadata": {
        "colab": {
          "base_uri": "https://localhost:8080/"
        },
        "id": "Vqqt92Pn76Pd",
        "outputId": "4274769a-6742-4926-f5c4-b9f2fa943b2c"
      },
      "execution_count": null,
      "outputs": [
        {
          "output_type": "stream",
          "name": "stdout",
          "text": [
            "Polynomial Logistic Regression (degree 3) training time: 0.0081 seconds\n"
          ]
        }
      ]
    },
    {
      "cell_type": "code",
      "source": [
        "start_time = time.time()\n",
        "reg_kc_multiple = LinearRegression().fit(X_kc_prices, y_kc_prices)\n",
        "reg_kc_multiple_time = time.time() - start_time\n",
        "print(f\"Linear Regression on House Prices training time: {reg_kc_multiple_time:.4f} seconds\")"
      ],
      "metadata": {
        "colab": {
          "base_uri": "https://localhost:8080/"
        },
        "id": "7smSzfSb79s5",
        "outputId": "7d5aded1-9daf-4a29-c638-392322b96c28"
      },
      "execution_count": null,
      "outputs": [
        {
          "output_type": "stream",
          "name": "stdout",
          "text": [
            "Linear Regression on House Prices training time: 0.0235 seconds\n"
          ]
        }
      ]
    },
    {
      "cell_type": "code",
      "source": [
        "X_3_kc_prices = (poly_features_kc_prices := PolynomialFeatures(degree=3)).fit_transform(X_kc_prices)\n",
        "start_time = time.time()\n",
        "reg_poly2_kc = LinearRegression().fit(X_3_kc_prices, y_kc_prices)\n",
        "poly2_kc_time = time.time() - start_time\n",
        "print(f\"Polynomial Regression (degree 3) on House Prices training time: {poly2_kc_time:.4f} seconds\")"
      ],
      "metadata": {
        "colab": {
          "base_uri": "https://localhost:8080/"
        },
        "id": "s8zlV5bk8CHv",
        "outputId": "30b70e4b-8f47-4f6d-a01e-541bbef41d7f"
      },
      "execution_count": null,
      "outputs": [
        {
          "output_type": "stream",
          "name": "stdout",
          "text": [
            "Polynomial Regression (degree 3) on House Prices training time: 7.3539 seconds\n"
          ]
        }
      ]
    },
    {
      "cell_type": "markdown",
      "source": [
        "\n",
        "2.   На датасете \"gen_regression\" постройте модель пятого, десятого и сотого порядков. Сравните эффективность и время обучения каждой модели.\n",
        "\n"
      ],
      "metadata": {
        "id": "iexf_ueh8Fft"
      }
    },
    {
      "cell_type": "code",
      "source": [
        "import numpy as np\n",
        "import pandas as pd\n",
        "import matplotlib.pyplot as plt\n",
        "from sklearn.linear_model import LinearRegression\n",
        "from sklearn.preprocessing import PolynomialFeatures\n",
        "from sklearn.metrics import r2_score\n",
        "import time\n",
        "\n",
        "# Загружаем данные\n",
        "data = pd.read_csv(\"https://raw.githubusercontent.com/koroteevmv/ML_course/refs/heads/main/ML3.1%20polynomial%20features/data/gen_regression.csv\")\n",
        "X = data.x\n",
        "y = data.y\n",
        "\n",
        "# Преобразуем X в DataFrame\n",
        "X = pd.DataFrame(X)\n",
        "\n",
        "# Список степеней полинома\n",
        "degrees = [5, 10, 100]\n",
        "\n",
        "# Словарь для хранения результатов\n",
        "results = {}\n",
        "\n",
        "# Строим модели для каждой степени\n",
        "for degree in degrees:\n",
        "    start_time = time.time()  # Засекаем время начала\n",
        "\n",
        "    # Преобразуем данные с помощью PolynomialFeatures\n",
        "    transformation = PolynomialFeatures(degree=degree)\n",
        "    X_transformed = transformation.fit_transform(X)\n",
        "\n",
        "    # Обучаем модель линейной регрессии\n",
        "    poly_model = LinearRegression().fit(X_transformed, y)\n",
        "\n",
        "    # Предсказываем значения для обучения\n",
        "    y_pred = poly_model.predict(X_transformed)\n",
        "\n",
        "    # Рассчитываем R^2\n",
        "    r2 = r2_score(y, y_pred)\n",
        "\n",
        "    # Засекаем время окончания\n",
        "    end_time = time.time()\n",
        "\n",
        "    # Записываем результаты\n",
        "    results[degree] = {\n",
        "        'R^2': r2,\n",
        "        'Time': end_time - start_time\n",
        "    }\n",
        "\n",
        "# Выводим результаты\n",
        "for degree in degrees:\n",
        "    print(f\"Degree: {degree}\")\n",
        "    print(f\"R^2: {results[degree]['R^2']:.4f}\")\n",
        "    print(f\"Time: {results[degree]['Time']:.4f} seconds\\n\")\n",
        "\n",
        "    # Строим графики для каждого порядка\n",
        "    xx = np.linspace(X.min(), X.max(), 1000).reshape(-1, 1)\n",
        "    xx_transformed = transformation.transform(xx)\n",
        "    yy = poly_model.predict(xx_transformed)\n",
        "\n",
        "    plt.scatter(X, y, label='Data')\n",
        "    plt.plot(xx, yy, label=f\"Degree {degree}\", c='r')\n",
        "    plt.title(f\"Polynomial Regression (Degree {degree})\")\n",
        "    plt.xlabel('X')\n",
        "    plt.ylabel('y')\n",
        "    plt.legend()\n",
        "    plt.show()"
      ],
      "metadata": {
        "colab": {
          "base_uri": "https://localhost:8080/",
          "height": 1000
        },
        "id": "f7vCwZw4A1dY",
        "outputId": "0f317525-38f9-478d-a3fa-8ad9f92abe68"
      },
      "execution_count": null,
      "outputs": [
        {
          "output_type": "stream",
          "name": "stdout",
          "text": [
            "Degree: 5\n",
            "R^2: 0.9217\n",
            "Time: 0.0182 seconds\n",
            "\n"
          ]
        },
        {
          "output_type": "stream",
          "name": "stderr",
          "text": [
            "/usr/local/lib/python3.10/dist-packages/sklearn/base.py:493: UserWarning: X does not have valid feature names, but PolynomialFeatures was fitted with feature names\n",
            "  warnings.warn(\n"
          ]
        },
        {
          "output_type": "display_data",
          "data": {
            "text/plain": [
              "<Figure size 640x480 with 1 Axes>"
            ],
            "image/png": "[encoded data removed]"
          },
          "metadata": {}
        },
        {
          "output_type": "stream",
          "name": "stdout",
          "text": [
            "Degree: 10\n",
            "R^2: 0.9232\n",
            "Time: 0.0091 seconds\n",
            "\n"
          ]
        },
        {
          "output_type": "stream",
          "name": "stderr",
          "text": [
            "/usr/local/lib/python3.10/dist-packages/sklearn/base.py:493: UserWarning: X does not have valid feature names, but PolynomialFeatures was fitted with feature names\n",
            "  warnings.warn(\n"
          ]
        },
        {
          "output_type": "display_data",
          "data": {
            "text/plain": [
              "<Figure size 640x480 with 1 Axes>"
            ],
            "image/png": "[encoded data removed]"
          },
          "metadata": {}
        },
        {
          "output_type": "stream",
          "name": "stdout",
          "text": [
            "Degree: 100\n",
            "R^2: 0.7925\n",
            "Time: 0.0585 seconds\n",
            "\n"
          ]
        },
        {
          "output_type": "stream",
          "name": "stderr",
          "text": [
            "/usr/local/lib/python3.10/dist-packages/sklearn/base.py:493: UserWarning: X does not have valid feature names, but PolynomialFeatures was fitted with feature names\n",
            "  warnings.warn(\n"
          ]
        },
        {
          "output_type": "display_data",
          "data": {
            "text/plain": [
              "<Figure size 640x480 with 1 Axes>"
            ],
            "image/png": "[encoded data removed]"
          },
          "metadata": {}
        }
      ]
    },
    {
      "cell_type": "markdown",
      "source": [
        "3. То же самое проделайте с датасетом для классификации и \"King county\".\n"
      ],
      "metadata": {
        "id": "7nesYYq-BOrp"
      }
    },
    {
      "cell_type": "code",
      "source": [
        "import pandas as pd\n",
        "import numpy as np\n",
        "import matplotlib.pyplot as plt\n",
        "from sklearn.linear_model import LogisticRegression\n",
        "from sklearn.preprocessing import PolynomialFeatures\n",
        "from time import time\n",
        "\n",
        "# Загрузка данных\n",
        "data = pd.read_csv(\"https://raw.githubusercontent.com/koroteevmv/ML_course/2023/ML3.1%20polynomial%20features/gen_classification.csv\", index_col=0)\n",
        "y = data.y\n",
        "X = data.drop([\"y\"], axis=1)\n",
        "\n",
        "# Функция для обучения модели и вычисления точности и времени\n",
        "def train_and_evaluate(degree):\n",
        "    # Преобразуем данные с помощью PolynomialFeatures\n",
        "    poly = PolynomialFeatures(degree=degree, include_bias=False)\n",
        "    X_poly = poly.fit_transform(X)\n",
        "\n",
        "    # Замеряем время обучения\n",
        "    start_time = time()\n",
        "    model = LogisticRegression(max_iter=10000)  # Увеличиваем max_iter для больших порядков\n",
        "    model.fit(X_poly, y)\n",
        "    end_time = time()\n",
        "\n",
        "    # Вычисляем точность модели\n",
        "    accuracy = model.score(X_poly, y)\n",
        "    training_time = end_time - start_time\n",
        "\n",
        "    return accuracy, training_time\n",
        "\n",
        "# Модели 5, 10 и 100 порядков\n",
        "degrees = [5, 10, 100]\n",
        "results = {}\n",
        "\n",
        "for degree in degrees:\n",
        "    accuracy, training_time = train_and_evaluate(degree)\n",
        "    results[degree] = {'accuracy': accuracy, 'training_time': training_time}\n",
        "\n",
        "# Вывод результатов\n",
        "for degree in degrees:\n",
        "    print(f\"Degree: {degree}\")\n",
        "    print(f\"Accuracy: {results[degree]['accuracy']:.4f}\")\n",
        "    print(f\"Training time: {results[degree]['training_time']:.4f} seconds\\n\")\n"
      ],
      "metadata": {
        "id": "K2x1hi91_4zJ",
        "colab": {
          "base_uri": "https://localhost:8080/"
        },
        "outputId": "18c971ba-a3b3-42e6-c8af-5481c96f1ec1"
      },
      "execution_count": null,
      "outputs": [
        {
          "output_type": "stream",
          "name": "stdout",
          "text": [
            "Degree: 5\n",
            "Accuracy: 0.9160\n",
            "Training time: 0.0049 seconds\n",
            "\n",
            "Degree: 10\n",
            "Accuracy: 0.9240\n",
            "Training time: 0.0207 seconds\n",
            "\n",
            "Degree: 100\n",
            "Accuracy: 0.5000\n",
            "Training time: 0.0860 seconds\n",
            "\n"
          ]
        },
        {
          "output_type": "stream",
          "name": "stderr",
          "text": [
            "/usr/local/lib/python3.10/dist-packages/sklearn/linear_model/_logistic.py:469: ConvergenceWarning: lbfgs failed to converge (status=2):\n",
            "ABNORMAL_TERMINATION_IN_LNSRCH.\n",
            "\n",
            "Increase the number of iterations (max_iter) or scale the data as shown in:\n",
            "    https://scikit-learn.org/stable/modules/preprocessing.html\n",
            "Please also refer to the documentation for alternative solver options:\n",
            "    https://scikit-learn.org/stable/modules/linear_model.html#logistic-regression\n",
            "  n_iter_i = _check_optimize_result(\n"
          ]
        }
      ]
    },
    {
      "cell_type": "code",
      "source": [
        "import pandas as pd\n",
        "import numpy as np\n",
        "import matplotlib.pyplot as plt\n",
        "from sklearn.linear_model import LinearRegression\n",
        "from sklearn.preprocessing import PolynomialFeatures\n",
        "from time import time\n",
        "\n",
        "# Загрузка данных\n",
        "data_kc_prices = pd.read_csv(\"https://raw.githubusercontent.com/koroteevmv/ML_course/2023/ML3.1%20polynomial%20features/kc_house_data.csv\")\n",
        "y_kc_prices = data_kc_prices.price\n",
        "X_kc_prices = data_kc_prices.drop([\"id\", \"date\", \"price\"], axis=1)\n",
        "\n",
        "# Функция для обучения модели и вычисления точности и времени\n",
        "def train_and_evaluate(degree):\n",
        "    # Преобразуем данные с помощью PolynomialFeatures\n",
        "    poly = PolynomialFeatures(degree=degree)\n",
        "    X_poly = poly.fit_transform(X_kc_prices)\n",
        "\n",
        "    # Замеряем время обучения\n",
        "    start_time = time()\n",
        "    model = LinearRegression()\n",
        "    model.fit(X_poly, y_kc_prices)\n",
        "    end_time = time()\n",
        "\n",
        "    # Вычисляем точность модели (R^2 score)\n",
        "    accuracy = model.score(X_poly, y_kc_prices)\n",
        "    training_time = end_time - start_time\n",
        "\n",
        "    return accuracy, training_time\n",
        "\n",
        "# Модели 5, 10 и 100 порядков\n",
        "degrees = [5, 10, 100]\n",
        "results = {}\n",
        "\n",
        "for degree in degrees:\n",
        "    accuracy, training_time = train_and_evaluate(degree)\n",
        "    results[degree] = {'accuracy': accuracy, 'training_time': training_time}\n",
        "\n",
        "    # Предсказания\n",
        "    poly = PolynomialFeatures(degree=degree)\n",
        "    X_poly = poly.fit_transform(X_kc_prices)\n",
        "    y_pred = model.predict(X_poly)\n",
        "\n",
        "    # Построение графика\n",
        "    plt.figure(figsize=(8, 6))\n",
        "    plt.scatter(y_pred, y_kc_prices, color='blue', label=\"Predicted vs Actual\")\n",
        "    plt.plot(y_pred, y_pred, color='red', label=\"Perfect Prediction Line\")\n",
        "    plt.title(f\"Predicted vs Actual (Degree {degree})\")\n",
        "    plt.xlabel(\"Predicted Prices\")\n",
        "    plt.ylabel(\"Actual Prices\")\n",
        "    plt.legend()\n",
        "    plt.show()\n",
        "\n",
        "# Вывод результатов\n",
        "for degree in degrees:\n",
        "    print(f\"Degree: {degree}\")\n",
        "    print(f\"Accuracy (R^2 score): {results[degree]['accuracy']:.4f}\")\n",
        "    print(f\"Training time: {results[degree]['training_time']:.4f} seconds\\n\")\n"
      ],
      "metadata": {
        "id": "rDKqn4IwEQOf"
      },
      "execution_count": null,
      "outputs": []
    },
    {
      "cell_type": "markdown",
      "source": [
        "4. Составьте таблицу эффективности разных моделей для каждой задачи. В таблице должна быть информация о времени обучения модели и получившейся точности. Сделайте вывод о целесообразности применения разных степеней полиномов."
      ],
      "metadata": {
        "id": "IIiYyAoVGKkW"
      }
    },
    {
      "cell_type": "code",
      "source": [
        "import numpy as np\n",
        "import pandas as pd\n",
        "import matplotlib.pyplot as plt\n",
        "from sklearn.linear_model import LinearRegression\n",
        "from sklearn.preprocessing import PolynomialFeatures\n",
        "from time import time\n",
        "\n",
        "# Загрузка данных\n",
        "data = pd.read_csv(\"https://raw.githubusercontent.com/koroteevmv/ML_course/refs/heads/main/ML3.1%20polynomial%20features/data/gen_regression.csv\")\n",
        "X = data.x\n",
        "y = data.y\n",
        "X = pd.DataFrame(X)\n",
        "\n",
        "# Функция для обучения модели и вычисления точности и времени\n",
        "def train_and_evaluate(degree):\n",
        "    # Преобразуем данные с помощью PolynomialFeatures\n",
        "    poly = PolynomialFeatures(degree=degree)\n",
        "    X_poly = poly.fit_transform(X)\n",
        "\n",
        "    # Замеряем время обучения\n",
        "    start_time = time()\n",
        "    model = LinearRegression()\n",
        "    model.fit(X_poly, y)\n",
        "    end_time = time()\n",
        "\n",
        "    # Вычисляем точность модели (R² score)\n",
        "    accuracy = model.score(X_poly, y)\n",
        "    training_time = end_time - start_time\n",
        "\n",
        "    return accuracy, training_time\n",
        "\n",
        "# Модели с разными степенями полиномов\n",
        "degrees = [1, 2, 5, 10, 20]\n",
        "results = {}\n",
        "\n",
        "# Обучение моделей\n",
        "for degree in degrees:\n",
        "    accuracy, training_time = train_and_evaluate(degree)\n",
        "    results[degree] = {'accuracy': accuracy, 'training_time': training_time}\n",
        "\n",
        "    # Построение графиков для каждой модели\n",
        "    poly = PolynomialFeatures(degree=degree)\n",
        "    X_poly = poly.fit_transform(X)\n",
        "    model = LinearRegression()\n",
        "    model.fit(X_poly, y)\n",
        "\n",
        "# Создание таблицы с результатами\n",
        "results_df = pd.DataFrame(results).T\n",
        "results_df.columns = ['R^2 Score', 'Training Time (seconds)']\n",
        "\n",
        "# Вывод результатов\n",
        "print(results_df)\n"
      ],
      "metadata": {
        "colab": {
          "base_uri": "https://localhost:8080/"
        },
        "id": "FOobt21jGMlX",
        "outputId": "d338335c-0763-48bf-cb30-899fdc835792"
      },
      "execution_count": null,
      "outputs": [
        {
          "output_type": "stream",
          "name": "stdout",
          "text": [
            "    R^2 Score  Training Time (seconds)\n",
            "1    0.374674                 0.038919\n",
            "2    0.735975                 0.007511\n",
            "5    0.921748                 0.001449\n",
            "10   0.923200                 0.001506\n",
            "20   0.923443                 0.001472\n"
          ]
        }
      ]
    },
    {
      "cell_type": "code",
      "source": [
        "import pandas as pd\n",
        "import numpy as np\n",
        "import time\n",
        "from sklearn.linear_model import LogisticRegression\n",
        "from sklearn.preprocessing import PolynomialFeatures\n",
        "import matplotlib.pyplot as plt\n",
        "from sklearn.model_selection import train_test_split\n",
        "\n",
        "# Загрузка данных\n",
        "data = pd.read_csv(\"https://raw.githubusercontent.com/koroteevmv/ML_course/2023/ML3.1%20polynomial%20features/gen_classification.csv\", index_col=0)\n",
        "y = data.y\n",
        "X = data.drop([\"y\"], axis=1)\n",
        "\n",
        "# Функция для оценки модели\n",
        "def evaluate_model(X, y, degree=1):\n",
        "    # Преобразование признаков в полиномиальные признаки\n",
        "    poly = PolynomialFeatures(degree=degree, include_bias=False)\n",
        "    X_poly = poly.fit_transform(X)\n",
        "\n",
        "    # Разделение данных на обучающую и тестовую выборки\n",
        "    X_train, X_test, y_train, y_test = train_test_split(X_poly, y, test_size=0.3, random_state=42)\n",
        "\n",
        "    # Обучение логистической регрессии\n",
        "    start_time = time.time()\n",
        "    model = LogisticRegression(max_iter=1000)\n",
        "    model.fit(X_train, y_train)\n",
        "    training_time = time.time() - start_time\n",
        "\n",
        "    # Оценка точности на тестовой выборке\n",
        "    accuracy = model.score(X_test, y_test)\n",
        "\n",
        "    return training_time, accuracy\n",
        "\n",
        "# Создание таблицы для разных степеней полинома\n",
        "degrees = [1, 2, 3, 4]\n",
        "results = []\n",
        "\n",
        "for degree in degrees:\n",
        "    training_time, accuracy = evaluate_model(X, y, degree)\n",
        "    results.append({\"Degree\": degree, \"Training Time (seconds)\": training_time, \"Accuracy\": accuracy})\n",
        "\n",
        "# Преобразование результатов в DataFrame\n",
        "results_df = pd.DataFrame(results)\n",
        "\n",
        "# Вывод таблицы\n",
        "print(results_df)"
      ],
      "metadata": {
        "colab": {
          "base_uri": "https://localhost:8080/"
        },
        "id": "0cwHnNdOWZ1q",
        "outputId": "4634edc8-5595-4bb6-f441-cb15ab3c518b"
      },
      "execution_count": null,
      "outputs": [
        {
          "output_type": "stream",
          "name": "stdout",
          "text": [
            "   Degree  Training Time (seconds)  Accuracy\n",
            "0       1                 0.012660  0.853333\n",
            "1       2                 0.009603  0.853333\n",
            "2       3                 0.011342  0.880000\n",
            "3       4                 0.014515  0.880000\n"
          ]
        }
      ]
    },
    {
      "cell_type": "code",
      "source": [
        "import pandas as pd\n",
        "import numpy as np\n",
        "import time\n",
        "from sklearn.linear_model import LinearRegression\n",
        "from sklearn.preprocessing import PolynomialFeatures\n",
        "import matplotlib.pyplot as plt\n",
        "from sklearn.model_selection import train_test_split\n",
        "\n",
        "# Загрузка данных\n",
        "data_kc_prices = pd.read_csv(\"https://raw.githubusercontent.com/koroteevmv/ML_course/2023/ML3.1%20polynomial%20features/kc_house_data.csv\")\n",
        "y_kc_prices = data_kc_prices.price\n",
        "X_kc_prices = data_kc_prices.drop([\"id\", \"date\", \"price\"], axis=1)\n",
        "\n",
        "# Функция для оценки модели\n",
        "def evaluate_model(X, y, degree=1):\n",
        "    # Преобразование признаков в полиномиальные признаки\n",
        "    poly = PolynomialFeatures(degree=degree)\n",
        "    X_poly = poly.fit_transform(X)\n",
        "\n",
        "    # Разделение данных на обучающую и тестовую выборки\n",
        "    X_train, X_test, y_train, y_test = train_test_split(X_poly, y, test_size=0.3, random_state=42)\n",
        "\n",
        "    # Обучение линейной регрессии\n",
        "    start_time = time.time()\n",
        "    model = LinearRegression()\n",
        "    model.fit(X_train, y_train)\n",
        "    training_time = time.time() - start_time\n",
        "\n",
        "    # Оценка точности на тестовой выборке (R^2)\n",
        "    score = model.score(X_test, y_test)\n",
        "\n",
        "    return training_time, score\n",
        "\n",
        "# Степени полиномов для оценки\n",
        "degrees = [1, 2, 3]\n",
        "results = []\n",
        "\n",
        "# Оценка моделей для разных степеней полиномов\n",
        "for degree in degrees:\n",
        "    training_time, score = evaluate_model(X_kc_prices, y_kc_prices, degree)\n",
        "    results.append({\"Degree\": degree, \"Training Time (seconds)\": training_time, \"R^2 Score\": score})\n",
        "\n",
        "# Преобразование результатов в DataFrame\n",
        "results_df = pd.DataFrame(results)\n",
        "\n",
        "# Вывод таблицы\n",
        "print(results_df)"
      ],
      "metadata": {
        "colab": {
          "base_uri": "https://localhost:8080/"
        },
        "id": "KMwhQN2HWpWl",
        "outputId": "4f5c8dc4-bede-4f35-a63d-c7a27236f7eb"
      },
      "execution_count": null,
      "outputs": [
        {
          "output_type": "stream",
          "name": "stdout",
          "text": [
            "   Degree  Training Time (seconds)  R^2 Score\n",
            "0       1                 0.020339   0.699463\n",
            "1       2                 1.078779   0.805397\n",
            "2       3                 5.379277  -0.769392\n"
          ]
        }
      ]
    },
    {
      "cell_type": "markdown",
      "source": [
        "5. Для линейной модели в задаче о продаже домов выведите коэффициенты модели и названия соответствующих атрибутов. Сделайте вывод об относительной важности атрибутов."
      ],
      "metadata": {
        "id": "Y86eMJy7W5y3"
      }
    },
    {
      "cell_type": "code",
      "source": [
        "import pandas as pd\n",
        "import numpy as np\n",
        "from sklearn.linear_model import LinearRegression\n",
        "\n",
        "# Загрузка данных\n",
        "data_kc_prices = pd.read_csv(\"https://raw.githubusercontent.com/koroteevmv/ML_course/2023/ML3.1%20polynomial%20features/kc_house_data.csv\")\n",
        "\n",
        "# Целевая переменная и признаки\n",
        "y_kc_prices = data_kc_prices.price\n",
        "X_kc_prices = data_kc_prices.drop([\"id\", \"date\", \"price\"], axis=1)\n",
        "\n",
        "# Обучение линейной регрессии\n",
        "reg_kc_multiple = LinearRegression().fit(X_kc_prices, y_kc_prices)\n",
        "\n",
        "# Получаем коэффициенты и атрибуты\n",
        "coefficients = reg_kc_multiple.coef_\n",
        "attributes = X_kc_prices.columns\n",
        "\n",
        "# Создаем DataFrame для вывода коэффициентов\n",
        "coefficients_df = pd.DataFrame({\n",
        "    'Attribute': attributes,\n",
        "    'Coefficient': coefficients\n",
        "})\n",
        "\n",
        "# Сортируем по величине коэффициентов, чтобы увидеть самые важные атрибуты\n",
        "coefficients_df = coefficients_df.sort_values(by='Coefficient', ascending=False)\n",
        "\n",
        "# Вывод таблицы с коэффициентами\n",
        "print(coefficients_df)\n",
        "\n",
        "# Визуализация важности признаков\n",
        "import matplotlib.pyplot as plt\n",
        "plt.figure(figsize=(10, 6))\n",
        "plt.barh(coefficients_df['Attribute'], coefficients_df['Coefficient'])\n",
        "plt.xlabel('Coefficient Value')\n",
        "plt.title('Importance of Attributes in Linear Regression Model')\n",
        "plt.show()\n"
      ],
      "metadata": {
        "colab": {
          "base_uri": "https://localhost:8080/",
          "height": 894
        },
        "id": "3BNkX-HEYQ_L",
        "outputId": "ec40c547-70df-4028-a1f7-3e704178a9f5"
      },
      "execution_count": null,
      "outputs": [
        {
          "output_type": "stream",
          "name": "stdout",
          "text": [
            "        Attribute    Coefficient\n",
            "14            lat  602748.226449\n",
            "5      waterfront  582960.458423\n",
            "8           grade   95890.445151\n",
            "6            view   52870.942384\n",
            "1       bathrooms   41144.278532\n",
            "7       condition   26385.649139\n",
            "4          floors    6689.550115\n",
            "2     sqft_living     110.442865\n",
            "9      sqft_above      70.785224\n",
            "10  sqft_basement      39.657640\n",
            "16  sqft_living15      21.681400\n",
            "12   yr_renovated      19.812584\n",
            "3        sqft_lot       0.128598\n",
            "17     sqft_lot15      -0.382642\n",
            "13        zipcode    -582.419866\n",
            "11       yr_built   -2620.223211\n",
            "0        bedrooms  -35766.541444\n",
            "15           long -214729.828253\n"
          ]
        },
        {
          "output_type": "display_data",
          "data": {
            "text/plain": [
              "<Figure size 1000x600 with 1 Axes>"
            ],
            "image/png": "[encoded data removed]"
          },
          "metadata": {}
        }
      ]
    },
    {
      "cell_type": "markdown",
      "source": [
        "6. Попробуйте также проинтерпретировать полиномиальную модель."
      ],
      "metadata": {
        "id": "xvBzJabhYVZ5"
      }
    },
    {
      "cell_type": "code",
      "source": [
        "import pandas as pd\n",
        "import numpy as np\n",
        "from sklearn.linear_model import LinearRegression\n",
        "from sklearn.preprocessing import PolynomialFeatures\n",
        "\n",
        "# Загрузка данных\n",
        "data_kc_prices = pd.read_csv(\"https://raw.githubusercontent.com/koroteevmv/ML_course/2023/ML3.1%20polynomial%20features/kc_house_data.csv\")\n",
        "\n",
        "# Целевая переменная и признаки\n",
        "y_kc_prices = data_kc_prices.price\n",
        "X_kc_prices = data_kc_prices.drop([\"id\", \"date\", \"price\"], axis=1)\n",
        "\n",
        "# Преобразование признаков в полиномиальные\n",
        "poly_features_kc_prices = PolynomialFeatures(degree=3)\n",
        "X_poly_kc_prices = poly_features_kc_prices.fit_transform(X_kc_prices)\n",
        "\n",
        "# Обучение линейной регрессии на полиномиальных признаках\n",
        "reg_poly_kc = LinearRegression().fit(X_poly_kc_prices, y_kc_prices)\n",
        "\n",
        "# Получаем коэффициенты и атрибуты\n",
        "coefficients_poly = reg_poly_kc.coef_\n",
        "attributes_poly = poly_features_kc_prices.get_feature_names_out(X_kc_prices.columns)\n",
        "\n",
        "# Создаем DataFrame для вывода коэффициентов\n",
        "coefficients_poly_df = pd.DataFrame({\n",
        "    'Attribute': attributes_poly,\n",
        "    'Coefficient': coefficients_poly\n",
        "})\n",
        "\n",
        "# Сортируем по величине коэффициентов\n",
        "coefficients_poly_df = coefficients_poly_df.sort_values(by='Coefficient', ascending=False)\n",
        "\n",
        "# Вывод таблицы с коэффициентами\n",
        "print(coefficients_poly_df)\n"
      ],
      "metadata": {
        "colab": {
          "base_uri": "https://localhost:8080/"
        },
        "id": "zoEL8SdhYnhf",
        "outputId": "872dd6e8-b2e0-4f65-a0ee-74b7d994e54a"
      },
      "execution_count": null,
      "outputs": [
        {
          "output_type": "stream",
          "name": "stdout",
          "text": [
            "                               Attribute  Coefficient\n",
            "428   bathrooms waterfront sqft_basement   182.552270\n",
            "795      floors waterfront sqft_living15   176.137882\n",
            "870            floors long sqft_living15   166.908073\n",
            "844            floors sqft_basement long   163.215572\n",
            "441              bathrooms view yr_built   157.088848\n",
            "...                                  ...          ...\n",
            "1201                 sqft_above lat long  -515.831926\n",
            "641                 sqft_living lat long  -537.204628\n",
            "1312                 lat^2 sqft_living15  -589.586896\n",
            "1200                    sqft_above lat^2  -810.281642\n",
            "640                    sqft_living lat^2  -871.335655\n",
            "\n",
            "[1330 rows x 2 columns]\n"
          ]
        }
      ]
    },
    {
      "cell_type": "markdown",
      "source": [
        "# Контрольные вопросы"
      ],
      "metadata": {
        "id": "MWmOjpywZLaE"
      }
    },
    {
      "cell_type": "markdown",
      "source": [
        "1. В чем заключается суть метода множественной регрессии?\n",
        "\n",
        "Множественная регрессия — это метод статистического анализа, используемый для моделирования зависимой переменной (или отклика) как функции нескольких независимых переменных (или признаков). В простых словах, он позволяет предсказать значение зависимой переменной, учитывая влияние нескольких факторов одновременно. Множественная регрессия расширяет линейную регрессию на несколько признаков, вычисляя веса (коэффициенты) для каждого признака, которые минимизируют ошибку прогноза.\n"
      ],
      "metadata": {
        "id": "zC8CGhPUZXlb"
      }
    },
    {
      "cell_type": "markdown",
      "source": [
        "2. Какие основные недостатки применения полиномиальных признаков на практике?\n",
        "\n",
        "Основные недостатки применения полиномиальных признаков:\n",
        "\n",
        "Переобучение (overfitting): При использовании полиномиальных признаков с высокой степенью можно создать модель, которая слишком хорошо подгоняет данные, но плохо обобщает на новых данных. Это приводит к переобучению.\n",
        "Рост сложности модели: Добавление полиномиальных признаков увеличивает количество признаков в модели, что может привести к увеличению времени обучения и вычислительных затрат.\n",
        "Сложность интерпретации: После добавления полиномиальных признаков (например, взаимодействий или квадратов) интерпретировать вклад каждого признака становится сложнее.\n",
        "Чувствительность к шуму в данных: Полиномиальные признаки могут усилить влияние случайных колебаний в данных (шум), что ухудшит качество модели."
      ],
      "metadata": {
        "id": "R23A9_7SZc8j"
      }
    },
    {
      "cell_type": "markdown",
      "source": [
        "3. В каких случая введение полиномиальных признаков может быть полезным?\n",
        "\n",
        "Введение полиномиальных признаков полезно в следующих случаях:\n",
        "\n",
        "Нелинейные зависимости: Если данные имеют нелинейные зависимости между признаками и целевой переменной, полиномиальные признаки могут помочь выявить эти зависимости.\n",
        "Улучшение точности модели: При наличии сложных зависимостей между признаками, которые не могут быть адекватно выражены линейной моделью, добавление полиномиальных признаков может улучшить модель.\n",
        "Повышение гибкости модели: Полиномиальные признаки позволяют модели более гибко подстраиваться под данные, улучшая точность предсказаний в случаях, когда простая линейная регрессия не справляется."
      ],
      "metadata": {
        "id": "EVMZnEYiZpZ2"
      }
    },
    {
      "cell_type": "markdown",
      "source": [
        "4. Как растет требование к объему оперативной памяти при введении полиномиальных признаков?\n",
        "\n",
        "Требования к объему оперативной памяти растут экспоненциально с увеличением степени полинома. Для каждого признака полиномиальные признаки создают новые комбинации, которые увеличивают размерность данных. Например, при степени полинома 2 для двух признаков будут добавлены не только квадраты каждого признака, но и их взаимодействие, что существенно увеличит количество признаков. С увеличением степени количество новых признаков растет по степени, что приводит к большому количеству данных и, как следствие, к большему потреблению памяти и времени обработки."
      ],
      "metadata": {
        "id": "_aMCBuouZybU"
      }
    },
    {
      "cell_type": "markdown",
      "source": [
        "5. Почему при введении полиномиальных признаков нужно добавить все комбинации атрибутов до заданной степени?\n",
        "\n",
        "Необходимо добавить все комбинации атрибутов до заданной степени, чтобы модель могла учесть все возможные взаимодействия между признаками. Если добавить только отдельные полиномиальные признаки, модель не будет учитывать возможные взаимодействия между ними. Например, для двух признаков x1 и x2 степени 2 модель должна включать не только x1 в степени 2, x2 в степени 2, но и их взаимодействие x1 умножить на x2. В противном случае модель может пропустить важные зависимости и не будет учитывать все возможные способы влияния признаков на целевую переменную."
      ],
      "metadata": {
        "id": "vVn369IUZ5vH"
      }
    },
    {
      "cell_type": "markdown",
      "source": [
        "6. Почему на последнем графике линия получается прямая, хотя мы используем нелинейную модель?\n",
        "\n",
        "На последнем графике линия получается прямой, потому что хотя модель и использует полиномиальные признаки, она может иметь лишь несколько признаков и сравнительно низкую степень полинома. Если степень полинома низкая (например, 2 или 3), то модель может быть в состоянии аппроксимировать зависимость линейно или почти линейно, даже при наличии полиномиальных признаков. Также, если в данных не содержится выраженных нелинейных зависимостей, модель может не использовать сложные полиномиальные признаки и по-прежнему подстраиваться под данные линейно."
      ],
      "metadata": {
        "id": "T4E3LdNEao7T"
      }
    }
  ]
}